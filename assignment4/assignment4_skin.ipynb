{
 "cells": [
  {
   "cell_type": "markdown",
   "metadata": {},
   "source": [
    "# Ⅱ. skin数据集"
   ]
  },
  {
   "cell_type": "markdown",
   "metadata": {},
   "source": [
    "初始化"
   ]
  },
  {
   "cell_type": "code",
   "execution_count": 12,
   "metadata": {},
   "outputs": [],
   "source": [
    "import pandas as pd\n",
    "import numpy as np\n",
    "from pyod.models.knn import KNN\n",
    "from pyod.models.pca import PCA\n",
    "from pyod.models.loda import LODA\n",
    "from pyod.models.lof import LOF\n",
    "from pyod.utils.utility import standardizer\n",
    "from pyod.utils.data import evaluate_print\n",
    "from pyod.utils.example import visualize\n",
    "from sklearn.metrics import roc_curve, auc\n",
    "from pyod.utils.utility import precision_n_scores\n",
    "from sklearn.metrics import roc_auc_score\n",
    "import matplotlib.pyplot as plt\n",
    "import time\n",
    "import os"
   ]
  },
  {
   "cell_type": "code",
   "execution_count": 2,
   "metadata": {},
   "outputs": [
    {
     "data": {
      "text/html": [
       "<div>\n",
       "<style scoped>\n",
       "    .dataframe tbody tr th:only-of-type {\n",
       "        vertical-align: middle;\n",
       "    }\n",
       "\n",
       "    .dataframe tbody tr th {\n",
       "        vertical-align: top;\n",
       "    }\n",
       "\n",
       "    .dataframe thead th {\n",
       "        text-align: right;\n",
       "    }\n",
       "</style>\n",
       "<table border=\"1\" class=\"dataframe\">\n",
       "  <thead>\n",
       "    <tr style=\"text-align: right;\">\n",
       "      <th></th>\n",
       "      <th>point.id</th>\n",
       "      <th>motherset</th>\n",
       "      <th>origin</th>\n",
       "      <th>original.label</th>\n",
       "      <th>diff.score</th>\n",
       "      <th>ground.truth</th>\n",
       "      <th>R</th>\n",
       "      <th>G</th>\n",
       "      <th>B</th>\n",
       "    </tr>\n",
       "  </thead>\n",
       "  <tbody>\n",
       "    <tr>\n",
       "      <th>0</th>\n",
       "      <td>skin_point_117027</td>\n",
       "      <td>skin</td>\n",
       "      <td>binary</td>\n",
       "      <td>2</td>\n",
       "      <td>0.020405</td>\n",
       "      <td>nominal</td>\n",
       "      <td>-1.864336</td>\n",
       "      <td>-2.110524</td>\n",
       "      <td>-1.587289</td>\n",
       "    </tr>\n",
       "    <tr>\n",
       "      <th>1</th>\n",
       "      <td>skin_point_016927</td>\n",
       "      <td>skin</td>\n",
       "      <td>binary</td>\n",
       "      <td>1</td>\n",
       "      <td>0.000250</td>\n",
       "      <td>anomaly</td>\n",
       "      <td>0.384456</td>\n",
       "      <td>0.925785</td>\n",
       "      <td>1.747782</td>\n",
       "    </tr>\n",
       "    <tr>\n",
       "      <th>2</th>\n",
       "      <td>skin_point_240995</td>\n",
       "      <td>skin</td>\n",
       "      <td>binary</td>\n",
       "      <td>2</td>\n",
       "      <td>0.001285</td>\n",
       "      <td>nominal</td>\n",
       "      <td>-0.980882</td>\n",
       "      <td>-1.092860</td>\n",
       "      <td>-1.394351</td>\n",
       "    </tr>\n",
       "    <tr>\n",
       "      <th>3</th>\n",
       "      <td>skin_point_018861</td>\n",
       "      <td>skin</td>\n",
       "      <td>binary</td>\n",
       "      <td>1</td>\n",
       "      <td>0.000739</td>\n",
       "      <td>anomaly</td>\n",
       "      <td>-1.125447</td>\n",
       "      <td>-0.542320</td>\n",
       "      <td>0.383435</td>\n",
       "    </tr>\n",
       "    <tr>\n",
       "      <th>4</th>\n",
       "      <td>skin_point_087883</td>\n",
       "      <td>skin</td>\n",
       "      <td>binary</td>\n",
       "      <td>2</td>\n",
       "      <td>0.001053</td>\n",
       "      <td>nominal</td>\n",
       "      <td>-0.964819</td>\n",
       "      <td>-1.076177</td>\n",
       "      <td>-1.380570</td>\n",
       "    </tr>\n",
       "  </tbody>\n",
       "</table>\n",
       "</div>"
      ],
      "text/plain": [
       "            point.id motherset  origin  original.label  diff.score  \\\n",
       "0  skin_point_117027      skin  binary               2    0.020405   \n",
       "1  skin_point_016927      skin  binary               1    0.000250   \n",
       "2  skin_point_240995      skin  binary               2    0.001285   \n",
       "3  skin_point_018861      skin  binary               1    0.000739   \n",
       "4  skin_point_087883      skin  binary               2    0.001053   \n",
       "\n",
       "  ground.truth         R         G         B  \n",
       "0      nominal -1.864336 -2.110524 -1.587289  \n",
       "1      anomaly  0.384456  0.925785  1.747782  \n",
       "2      nominal -0.980882 -1.092860 -1.394351  \n",
       "3      anomaly -1.125447 -0.542320  0.383435  \n",
       "4      nominal -0.964819 -1.076177 -1.380570  "
      ]
     },
     "execution_count": 2,
     "metadata": {},
     "output_type": "execute_result"
    }
   ],
   "source": [
    "example = pd.read_csv(\"data/skin/benchmarks/skin_benchmark_0001.csv\")\n",
    "example.head()"
   ]
  },
  {
   "cell_type": "markdown",
   "metadata": {},
   "source": [
    "从数据集中选取特征函数、获取训练集是否为离群点标签的函数"
   ]
  },
  {
   "cell_type": "code",
   "execution_count": 3,
   "metadata": {},
   "outputs": [],
   "source": [
    "choosed_attrs = [\"R\",\"G\",\"B\"]\n",
    "def str2bool(x):\n",
    "    return 1 if x == \"anomaly\" else 0\n",
    "\n",
    "def create_features(df):\n",
    "    tmp = df.iloc[:,6:]\n",
    "    return standardizer(tmp)\n",
    "def get_label(df):\n",
    "    y = df[\"ground.truth\"]\n",
    "    y = list(map(str2bool,y))\n",
    "    return y"
   ]
  },
  {
   "cell_type": "markdown",
   "metadata": {},
   "source": [
    "用于评价模型，输出并显示ROC曲线的函数"
   ]
  },
  {
   "cell_type": "code",
   "execution_count": 6,
   "metadata": {},
   "outputs": [],
   "source": [
    "def show(title,clf_name, y, y_train_scores):\n",
    "    evaluate_print(clf_name, y, y_train_scores)\n",
    "    fpr, tpr, thresholds  =  roc_curve(y, y_train_scores) \n",
    "    roc_auc = auc(fpr, tpr)\n",
    "    plt.figure(figsize=(5,5))\n",
    "    lw = 2\n",
    "    plt.plot(fpr, tpr, color='darkorange',\n",
    "             lw=lw, label='ROC curve (area = %0.2f)' % roc_auc) \n",
    "    plt.plot([0, 1], [0, 1], color='navy', lw=lw, linestyle='--')\n",
    "    plt.xlim([0.0, 1.0])\n",
    "    plt.ylim([0.0, 1.05])\n",
    "    plt.xlabel('False Positive Rate')\n",
    "    plt.ylabel('True Positive Rate')\n",
    "    plt.title(title)\n",
    "    plt.legend(loc=\"lower right\")\n",
    "    plt.show()"
   ]
  },
  {
   "cell_type": "markdown",
   "metadata": {},
   "source": [
    "## benchmark抽样分析"
   ]
  },
  {
   "cell_type": "markdown",
   "metadata": {},
   "source": [
    "查看benchmark的元数据"
   ]
  },
  {
   "cell_type": "code",
   "execution_count": 8,
   "metadata": {},
   "outputs": [
    {
     "data": {
      "text/html": [
       "<div>\n",
       "<style scoped>\n",
       "    .dataframe tbody tr th:only-of-type {\n",
       "        vertical-align: middle;\n",
       "    }\n",
       "\n",
       "    .dataframe tbody tr th {\n",
       "        vertical-align: top;\n",
       "    }\n",
       "\n",
       "    .dataframe thead th {\n",
       "        text-align: right;\n",
       "    }\n",
       "</style>\n",
       "<table border=\"1\" class=\"dataframe\">\n",
       "  <thead>\n",
       "    <tr style=\"text-align: right;\">\n",
       "      <th></th>\n",
       "      <th>bench.id</th>\n",
       "      <th>benchnum</th>\n",
       "      <th>origin</th>\n",
       "      <th>mset</th>\n",
       "      <th>size</th>\n",
       "      <th>n.anom</th>\n",
       "      <th>n.norm</th>\n",
       "      <th>anomaly.rate.level</th>\n",
       "      <th>point.difficulty.level</th>\n",
       "      <th>clustering.algo</th>\n",
       "      <th>irrelevance.level</th>\n",
       "      <th>anomaly.rate</th>\n",
       "      <th>diff.mean</th>\n",
       "      <th>anom.diff.mean</th>\n",
       "      <th>norm.diff.mean</th>\n",
       "      <th>clusteredness.score</th>\n",
       "      <th>irrelevance.score</th>\n",
       "      <th>auc.ci.0.999</th>\n",
       "      <th>ap.ci.0.999</th>\n",
       "    </tr>\n",
       "  </thead>\n",
       "  <tbody>\n",
       "    <tr>\n",
       "      <th>0</th>\n",
       "      <td>skin_benchmark_0001</td>\n",
       "      <td>1</td>\n",
       "      <td>binary</td>\n",
       "      <td>skin</td>\n",
       "      <td>6000</td>\n",
       "      <td>1217</td>\n",
       "      <td>4783</td>\n",
       "      <td>ar-0</td>\n",
       "      <td>pd-0</td>\n",
       "      <td>none</td>\n",
       "      <td>ir-0</td>\n",
       "      <td>0.202833</td>\n",
       "      <td>0.060019</td>\n",
       "      <td>0.084464</td>\n",
       "      <td>0.053800</td>\n",
       "      <td>1.077364</td>\n",
       "      <td>0.000000</td>\n",
       "      <td>0.525617</td>\n",
       "      <td>0.221824</td>\n",
       "    </tr>\n",
       "    <tr>\n",
       "      <th>1</th>\n",
       "      <td>skin_benchmark_0002</td>\n",
       "      <td>2</td>\n",
       "      <td>binary</td>\n",
       "      <td>skin</td>\n",
       "      <td>6000</td>\n",
       "      <td>1225</td>\n",
       "      <td>4775</td>\n",
       "      <td>ar-0</td>\n",
       "      <td>pd-0</td>\n",
       "      <td>none</td>\n",
       "      <td>ir-0</td>\n",
       "      <td>0.204167</td>\n",
       "      <td>0.058470</td>\n",
       "      <td>0.078569</td>\n",
       "      <td>0.053314</td>\n",
       "      <td>1.061695</td>\n",
       "      <td>0.000000</td>\n",
       "      <td>0.525605</td>\n",
       "      <td>0.223098</td>\n",
       "    </tr>\n",
       "    <tr>\n",
       "      <th>2</th>\n",
       "      <td>skin_benchmark_0003</td>\n",
       "      <td>3</td>\n",
       "      <td>binary</td>\n",
       "      <td>skin</td>\n",
       "      <td>6000</td>\n",
       "      <td>1245</td>\n",
       "      <td>4755</td>\n",
       "      <td>ar-0</td>\n",
       "      <td>pd-0</td>\n",
       "      <td>none</td>\n",
       "      <td>ir-0</td>\n",
       "      <td>0.207500</td>\n",
       "      <td>0.061087</td>\n",
       "      <td>0.087181</td>\n",
       "      <td>0.054254</td>\n",
       "      <td>1.043663</td>\n",
       "      <td>0.000000</td>\n",
       "      <td>0.525368</td>\n",
       "      <td>0.226587</td>\n",
       "    </tr>\n",
       "    <tr>\n",
       "      <th>3</th>\n",
       "      <td>skin_benchmark_0004</td>\n",
       "      <td>4</td>\n",
       "      <td>binary</td>\n",
       "      <td>skin</td>\n",
       "      <td>6000</td>\n",
       "      <td>1187</td>\n",
       "      <td>4813</td>\n",
       "      <td>ar-0</td>\n",
       "      <td>pd-0</td>\n",
       "      <td>none</td>\n",
       "      <td>ir-0</td>\n",
       "      <td>0.197833</td>\n",
       "      <td>0.056877</td>\n",
       "      <td>0.077470</td>\n",
       "      <td>0.051799</td>\n",
       "      <td>1.110271</td>\n",
       "      <td>0.000000</td>\n",
       "      <td>0.525846</td>\n",
       "      <td>0.216778</td>\n",
       "    </tr>\n",
       "    <tr>\n",
       "      <th>4</th>\n",
       "      <td>skin_benchmark_0005</td>\n",
       "      <td>5</td>\n",
       "      <td>binary</td>\n",
       "      <td>skin</td>\n",
       "      <td>6000</td>\n",
       "      <td>1241</td>\n",
       "      <td>4759</td>\n",
       "      <td>ar-0</td>\n",
       "      <td>pd-0</td>\n",
       "      <td>none</td>\n",
       "      <td>ir-0</td>\n",
       "      <td>0.206833</td>\n",
       "      <td>0.057646</td>\n",
       "      <td>0.079658</td>\n",
       "      <td>0.051906</td>\n",
       "      <td>1.011156</td>\n",
       "      <td>0.000000</td>\n",
       "      <td>0.525316</td>\n",
       "      <td>0.225858</td>\n",
       "    </tr>\n",
       "    <tr>\n",
       "      <th>...</th>\n",
       "      <td>...</td>\n",
       "      <td>...</td>\n",
       "      <td>...</td>\n",
       "      <td>...</td>\n",
       "      <td>...</td>\n",
       "      <td>...</td>\n",
       "      <td>...</td>\n",
       "      <td>...</td>\n",
       "      <td>...</td>\n",
       "      <td>...</td>\n",
       "      <td>...</td>\n",
       "      <td>...</td>\n",
       "      <td>...</td>\n",
       "      <td>...</td>\n",
       "      <td>...</td>\n",
       "      <td>...</td>\n",
       "      <td>...</td>\n",
       "      <td>...</td>\n",
       "      <td>...</td>\n",
       "    </tr>\n",
       "    <tr>\n",
       "      <th>1495</th>\n",
       "      <td>skin_benchmark_1736</td>\n",
       "      <td>1736</td>\n",
       "      <td>binary</td>\n",
       "      <td>skin</td>\n",
       "      <td>6000</td>\n",
       "      <td>600</td>\n",
       "      <td>5400</td>\n",
       "      <td>ar-6</td>\n",
       "      <td>pd-3</td>\n",
       "      <td>cluster</td>\n",
       "      <td>ir-3</td>\n",
       "      <td>0.100000</td>\n",
       "      <td>0.333377</td>\n",
       "      <td>0.493219</td>\n",
       "      <td>0.315617</td>\n",
       "      <td>1.172648</td>\n",
       "      <td>1.236871</td>\n",
       "      <td>0.536514</td>\n",
       "      <td>0.115960</td>\n",
       "    </tr>\n",
       "    <tr>\n",
       "      <th>1496</th>\n",
       "      <td>skin_benchmark_1737</td>\n",
       "      <td>1737</td>\n",
       "      <td>binary</td>\n",
       "      <td>skin</td>\n",
       "      <td>6000</td>\n",
       "      <td>600</td>\n",
       "      <td>5400</td>\n",
       "      <td>ar-6</td>\n",
       "      <td>pd-3</td>\n",
       "      <td>cluster</td>\n",
       "      <td>ir-3</td>\n",
       "      <td>0.100000</td>\n",
       "      <td>0.333343</td>\n",
       "      <td>0.489881</td>\n",
       "      <td>0.315950</td>\n",
       "      <td>1.208952</td>\n",
       "      <td>1.236117</td>\n",
       "      <td>0.536514</td>\n",
       "      <td>0.115960</td>\n",
       "    </tr>\n",
       "    <tr>\n",
       "      <th>1497</th>\n",
       "      <td>skin_benchmark_1738</td>\n",
       "      <td>1738</td>\n",
       "      <td>binary</td>\n",
       "      <td>skin</td>\n",
       "      <td>6000</td>\n",
       "      <td>600</td>\n",
       "      <td>5400</td>\n",
       "      <td>ar-6</td>\n",
       "      <td>pd-3</td>\n",
       "      <td>cluster</td>\n",
       "      <td>ir-3</td>\n",
       "      <td>0.100000</td>\n",
       "      <td>0.333341</td>\n",
       "      <td>0.489209</td>\n",
       "      <td>0.316022</td>\n",
       "      <td>1.094585</td>\n",
       "      <td>1.244969</td>\n",
       "      <td>0.536514</td>\n",
       "      <td>0.115960</td>\n",
       "    </tr>\n",
       "    <tr>\n",
       "      <th>1498</th>\n",
       "      <td>skin_benchmark_1739</td>\n",
       "      <td>1739</td>\n",
       "      <td>binary</td>\n",
       "      <td>skin</td>\n",
       "      <td>6000</td>\n",
       "      <td>600</td>\n",
       "      <td>5400</td>\n",
       "      <td>ar-6</td>\n",
       "      <td>pd-3</td>\n",
       "      <td>cluster</td>\n",
       "      <td>ir-3</td>\n",
       "      <td>0.100000</td>\n",
       "      <td>0.333339</td>\n",
       "      <td>0.495590</td>\n",
       "      <td>0.315311</td>\n",
       "      <td>1.275180</td>\n",
       "      <td>1.230456</td>\n",
       "      <td>0.536514</td>\n",
       "      <td>0.115960</td>\n",
       "    </tr>\n",
       "    <tr>\n",
       "      <th>1499</th>\n",
       "      <td>skin_benchmark_1740</td>\n",
       "      <td>1740</td>\n",
       "      <td>binary</td>\n",
       "      <td>skin</td>\n",
       "      <td>6000</td>\n",
       "      <td>600</td>\n",
       "      <td>5400</td>\n",
       "      <td>ar-6</td>\n",
       "      <td>pd-3</td>\n",
       "      <td>cluster</td>\n",
       "      <td>ir-3</td>\n",
       "      <td>0.100000</td>\n",
       "      <td>0.333338</td>\n",
       "      <td>0.492190</td>\n",
       "      <td>0.315687</td>\n",
       "      <td>1.176960</td>\n",
       "      <td>1.230855</td>\n",
       "      <td>0.536514</td>\n",
       "      <td>0.115960</td>\n",
       "    </tr>\n",
       "  </tbody>\n",
       "</table>\n",
       "<p>1500 rows × 19 columns</p>\n",
       "</div>"
      ],
      "text/plain": [
       "                 bench.id  benchnum  origin  mset  size  n.anom  n.norm  \\\n",
       "0     skin_benchmark_0001         1  binary  skin  6000    1217    4783   \n",
       "1     skin_benchmark_0002         2  binary  skin  6000    1225    4775   \n",
       "2     skin_benchmark_0003         3  binary  skin  6000    1245    4755   \n",
       "3     skin_benchmark_0004         4  binary  skin  6000    1187    4813   \n",
       "4     skin_benchmark_0005         5  binary  skin  6000    1241    4759   \n",
       "...                   ...       ...     ...   ...   ...     ...     ...   \n",
       "1495  skin_benchmark_1736      1736  binary  skin  6000     600    5400   \n",
       "1496  skin_benchmark_1737      1737  binary  skin  6000     600    5400   \n",
       "1497  skin_benchmark_1738      1738  binary  skin  6000     600    5400   \n",
       "1498  skin_benchmark_1739      1739  binary  skin  6000     600    5400   \n",
       "1499  skin_benchmark_1740      1740  binary  skin  6000     600    5400   \n",
       "\n",
       "     anomaly.rate.level point.difficulty.level clustering.algo  \\\n",
       "0                  ar-0                   pd-0            none   \n",
       "1                  ar-0                   pd-0            none   \n",
       "2                  ar-0                   pd-0            none   \n",
       "3                  ar-0                   pd-0            none   \n",
       "4                  ar-0                   pd-0            none   \n",
       "...                 ...                    ...             ...   \n",
       "1495               ar-6                   pd-3         cluster   \n",
       "1496               ar-6                   pd-3         cluster   \n",
       "1497               ar-6                   pd-3         cluster   \n",
       "1498               ar-6                   pd-3         cluster   \n",
       "1499               ar-6                   pd-3         cluster   \n",
       "\n",
       "     irrelevance.level  anomaly.rate  diff.mean  anom.diff.mean  \\\n",
       "0                 ir-0      0.202833   0.060019        0.084464   \n",
       "1                 ir-0      0.204167   0.058470        0.078569   \n",
       "2                 ir-0      0.207500   0.061087        0.087181   \n",
       "3                 ir-0      0.197833   0.056877        0.077470   \n",
       "4                 ir-0      0.206833   0.057646        0.079658   \n",
       "...                ...           ...        ...             ...   \n",
       "1495              ir-3      0.100000   0.333377        0.493219   \n",
       "1496              ir-3      0.100000   0.333343        0.489881   \n",
       "1497              ir-3      0.100000   0.333341        0.489209   \n",
       "1498              ir-3      0.100000   0.333339        0.495590   \n",
       "1499              ir-3      0.100000   0.333338        0.492190   \n",
       "\n",
       "      norm.diff.mean  clusteredness.score  irrelevance.score  auc.ci.0.999  \\\n",
       "0           0.053800             1.077364           0.000000      0.525617   \n",
       "1           0.053314             1.061695           0.000000      0.525605   \n",
       "2           0.054254             1.043663           0.000000      0.525368   \n",
       "3           0.051799             1.110271           0.000000      0.525846   \n",
       "4           0.051906             1.011156           0.000000      0.525316   \n",
       "...              ...                  ...                ...           ...   \n",
       "1495        0.315617             1.172648           1.236871      0.536514   \n",
       "1496        0.315950             1.208952           1.236117      0.536514   \n",
       "1497        0.316022             1.094585           1.244969      0.536514   \n",
       "1498        0.315311             1.275180           1.230456      0.536514   \n",
       "1499        0.315687             1.176960           1.230855      0.536514   \n",
       "\n",
       "      ap.ci.0.999  \n",
       "0        0.221824  \n",
       "1        0.223098  \n",
       "2        0.226587  \n",
       "3        0.216778  \n",
       "4        0.225858  \n",
       "...           ...  \n",
       "1495     0.115960  \n",
       "1496     0.115960  \n",
       "1497     0.115960  \n",
       "1498     0.115960  \n",
       "1499     0.115960  \n",
       "\n",
       "[1500 rows x 19 columns]"
      ]
     },
     "execution_count": 8,
     "metadata": {},
     "output_type": "execute_result"
    }
   ],
   "source": [
    "meta = pd.read_csv('data/skin/meta_data/meta_skin.csv')\n",
    "meta"
   ]
  },
  {
   "cell_type": "markdown",
   "metadata": {},
   "source": [
    "选择skin_benchmark_0493、skin_benchmark_1267分析,使用PyOD工具包中的KNN, LOF, PCA, LODA对抽样个benchmark执行离群点检测，并可视化显示检测模型的评测结果。"
   ]
  },
  {
   "cell_type": "code",
   "execution_count": 69,
   "metadata": {},
   "outputs": [],
   "source": [
    "examples = [\n",
    "    \"skin_benchmark_0493.csv\",\n",
    "      \"skin_benchmark_1267.csv\",\n",
    "]\n",
    "models = {\n",
    "    \"KNN\": KNN(),\n",
    "    \"LOF\": LOF(),\n",
    "    \"PCA\": PCA(),\n",
    "    \"LODA\": LODA(),\n",
    "}\n",
    "dfs = [pd.read_csv(os.path.join(\"data/skin/benchmarks\",x)) for x in examples]"
   ]
  },
  {
   "cell_type": "code",
   "execution_count": 70,
   "metadata": {
    "scrolled": false
   },
   "outputs": [
    {
     "name": "stdout",
     "output_type": "stream",
     "text": [
      "[0 0 0 ... 0 0 0]\n",
      "KNN ROC:0.8115, precision @ rank n:0.0\n"
     ]
    },
    {
     "data": {
      "image/png": "[encoded data removed]",
      "text/plain": [
       "<Figure size 360x360 with 1 Axes>"
      ]
     },
     "metadata": {
      "needs_background": "light"
     },
     "output_type": "display_data"
    },
    {
     "name": "stdout",
     "output_type": "stream",
     "text": [
      "[0 0 0 ... 0 0 0]\n",
      "LOF ROC:0.7922, precision @ rank n:0.0\n"
     ]
    },
    {
     "data": {
      "image/png": "[encoded data removed]",
      "text/plain": [
       "<Figure size 360x360 with 1 Axes>"
      ]
     },
     "metadata": {
      "needs_background": "light"
     },
     "output_type": "display_data"
    },
    {
     "name": "stdout",
     "output_type": "stream",
     "text": [
      "[0 0 0 ... 0 0 0]\n",
      "PCA ROC:0.2389, precision @ rank n:0.0\n"
     ]
    },
    {
     "data": {
      "image/png": "[encoded data removed]",
      "text/plain": [
       "<Figure size 360x360 with 1 Axes>"
      ]
     },
     "metadata": {
      "needs_background": "light"
     },
     "output_type": "display_data"
    },
    {
     "name": "stdout",
     "output_type": "stream",
     "text": [
      "[0 0 0 ... 0 0 0]\n",
      "LODA ROC:0.3019, precision @ rank n:0.0\n"
     ]
    },
    {
     "data": {
      "image/png": "[encoded data removed]",
      "text/plain": [
       "<Figure size 360x360 with 1 Axes>"
      ]
     },
     "metadata": {
      "needs_background": "light"
     },
     "output_type": "display_data"
    },
    {
     "name": "stdout",
     "output_type": "stream",
     "text": [
      "[0 0 0 ... 0 0 0]\n",
      "KNN ROC:0.8591, precision @ rank n:0.0467\n"
     ]
    },
    {
     "data": {
      "image/png": "[encoded data removed]",
      "text/plain": [
       "<Figure size 360x360 with 1 Axes>"
      ]
     },
     "metadata": {
      "needs_background": "light"
     },
     "output_type": "display_data"
    },
    {
     "name": "stdout",
     "output_type": "stream",
     "text": [
      "[0 0 0 ... 0 0 0]\n",
      "LOF ROC:0.3424, precision @ rank n:0.0\n"
     ]
    },
    {
     "data": {
      "image/png": "[encoded data removed]",
      "text/plain": [
       "<Figure size 360x360 with 1 Axes>"
      ]
     },
     "metadata": {
      "needs_background": "light"
     },
     "output_type": "display_data"
    },
    {
     "name": "stdout",
     "output_type": "stream",
     "text": [
      "[1 0 0 ... 0 0 0]\n",
      "PCA ROC:0.5498, precision @ rank n:0.0\n"
     ]
    },
    {
     "data": {
      "image/png": "[encoded data removed]",
      "text/plain": [
       "<Figure size 360x360 with 1 Axes>"
      ]
     },
     "metadata": {
      "needs_background": "light"
     },
     "output_type": "display_data"
    },
    {
     "name": "stdout",
     "output_type": "stream",
     "text": [
      "[0 0 0 ... 0 0 0]\n",
      "LODA ROC:0.5675, precision @ rank n:0.04\n"
     ]
    },
    {
     "data": {
      "image/png": "[encoded data removed]",
      "text/plain": [
       "<Figure size 360x360 with 1 Axes>"
      ]
     },
     "metadata": {
      "needs_background": "light"
     },
     "output_type": "display_data"
    }
   ],
   "source": [
    "for df in dfs:\n",
    "    x_train =  create_features(df)\n",
    "    y_train =  get_label(df)\n",
    "    c = y_train.count(1)/len(y_train)\n",
    "    for k in models:\n",
    "        clf_name = k\n",
    "        clf = eval(k)(contamination = c)# 初始化检测器\n",
    "        clf.fit(x_train)\n",
    "        #得到训练数据的预测标签和离群值\n",
    "        y_train_pred = clf.labels_  \n",
    "        y_train_scores = clf.decision_scores_ \n",
    "        print(y_train_pred)\n",
    "        #输出结果\n",
    "        show(\"%s-%s\"%(\"example\",clf_name),clf_name,y_train,y_train_scores)"
   ]
  },
  {
   "cell_type": "markdown",
   "metadata": {},
   "source": [
    "## 所有benchmark的分析"
   ]
  },
  {
   "cell_type": "code",
   "execution_count": 71,
   "metadata": {},
   "outputs": [
    {
     "name": "stdout",
     "output_type": "stream",
     "text": [
      "{'benchmark': 'skin_benchmark_0001.csv', 'model': 'KNN', 'AUC': 0.7181, 'precision @ rank': 0.2432, 'time': 0.051}\n",
      "{'benchmark': 'skin_benchmark_0001.csv', 'model': 'LOF', 'AUC': 0.4534, 'precision @ rank': 0.1027, 'time': 0.101}\n",
      "{'benchmark': 'skin_benchmark_0001.csv', 'model': 'PCA', 'AUC': 0.4572, 'precision @ rank': 0.0288, 'time': 0.022}\n",
      "{'benchmark': 'skin_benchmark_0001.csv', 'model': 'LODA', 'AUC': 0.4417, 'precision @ rank': 0.0422, 'time': 0.1296}\n",
      "{'benchmark': 'skin_benchmark_0002.csv', 'model': 'KNN', 'AUC': 0.7129, 'precision @ rank': 0.2327, 'time': 0.041}\n",
      "{'benchmark': 'skin_benchmark_0002.csv', 'model': 'LOF', 'AUC': 0.4524, 'precision @ rank': 0.1412, 'time': 0.073}\n",
      "{'benchmark': 'skin_benchmark_0002.csv', 'model': 'PCA', 'AUC': 0.4178, 'precision @ rank': 0.04, 'time': 0.02}\n",
      "{'benchmark': 'skin_benchmark_0002.csv', 'model': 'LODA', 'AUC': 0.5285, 'precision @ rank': 0.1046, 'time': 0.1}\n",
      "{'benchmark': 'skin_benchmark_0003.csv', 'model': 'KNN', 'AUC': 0.7211, 'precision @ rank': 0.2506, 'time': 0.056}\n",
      "{'benchmark': 'skin_benchmark_0003.csv', 'model': 'LOF', 'AUC': 0.4418, 'precision @ rank': 0.1341, 'time': 0.086}\n",
      "{'benchmark': 'skin_benchmark_0003.csv', 'model': 'PCA', 'AUC': 0.4399, 'precision @ rank': 0.0337, 'time': 0.016}\n",
      "{'benchmark': 'skin_benchmark_0003.csv', 'model': 'LODA', 'AUC': 0.4243, 'precision @ rank': 0.0405, 'time': 0.12}\n",
      "{'benchmark': 'skin_benchmark_0004.csv', 'model': 'KNN', 'AUC': 0.7301, 'precision @ rank': 0.2258, 'time': 0.053}\n",
      "{'benchmark': 'skin_benchmark_0004.csv', 'model': 'LOF', 'AUC': 0.4438, 'precision @ rank': 0.1112, 'time': 0.081}\n",
      "{'benchmark': 'skin_benchmark_0004.csv', 'model': 'PCA', 'AUC': 0.4583, 'precision @ rank': 0.0185, 'time': 0.013}\n",
      "{'benchmark': 'skin_benchmark_0004.csv', 'model': 'LODA', 'AUC': 0.4146, 'precision @ rank': 0.0227, 'time': 0.16}\n",
      "{'benchmark': 'skin_benchmark_0005.csv', 'model': 'KNN', 'AUC': 0.719, 'precision @ rank': 0.2482, 'time': 0.057}\n",
      "{'benchmark': 'skin_benchmark_0005.csv', 'model': 'LOF', 'AUC': 0.4104, 'precision @ rank': 0.1048, 'time': 0.096}\n",
      "{'benchmark': 'skin_benchmark_0005.csv', 'model': 'PCA', 'AUC': 0.4442, 'precision @ rank': 0.0564, 'time': 0.018}\n",
      "{'benchmark': 'skin_benchmark_0005.csv', 'model': 'LODA', 'AUC': 0.4143, 'precision @ rank': 0.0479, 'time': 0.097}\n",
      "{'benchmark': 'skin_benchmark_0006.csv', 'model': 'KNN', 'AUC': 0.7019, 'precision @ rank': 0.2257, 'time': 0.091}\n",
      "{'benchmark': 'skin_benchmark_0006.csv', 'model': 'LOF', 'AUC': 0.4086, 'precision @ rank': 0.0973, 'time': 0.132}\n",
      "{'benchmark': 'skin_benchmark_0006.csv', 'model': 'PCA', 'AUC': 0.4347, 'precision @ rank': 0.0837, 'time': 0.019}\n",
      "{'benchmark': 'skin_benchmark_0006.csv', 'model': 'LODA', 'AUC': 0.4115, 'precision @ rank': 0.0447, 'time': 0.116}\n",
      "{'benchmark': 'skin_benchmark_0007.csv', 'model': 'KNN', 'AUC': 0.7148, 'precision @ rank': 0.2248, 'time': 0.069}\n",
      "{'benchmark': 'skin_benchmark_0007.csv', 'model': 'LOF', 'AUC': 0.4111, 'precision @ rank': 0.1015, 'time': 0.101}\n",
      "{'benchmark': 'skin_benchmark_0007.csv', 'model': 'PCA', 'AUC': 0.4553, 'precision @ rank': 0.0935, 'time': 0.027}\n",
      "{'benchmark': 'skin_benchmark_0007.csv', 'model': 'LODA', 'AUC': 0.5864, 'precision @ rank': 0.0951, 'time': 0.089}\n",
      "{'benchmark': 'skin_benchmark_0008.csv', 'model': 'KNN', 'AUC': 0.7161, 'precision @ rank': 0.206, 'time': 0.077}\n",
      "{'benchmark': 'skin_benchmark_0008.csv', 'model': 'LOF', 'AUC': 0.3982, 'precision @ rank': 0.0845, 'time': 0.118}\n",
      "{'benchmark': 'skin_benchmark_0008.csv', 'model': 'PCA', 'AUC': 0.425, 'precision @ rank': 0.0772, 'time': 0.0139}\n",
      "{'benchmark': 'skin_benchmark_0008.csv', 'model': 'LODA', 'AUC': 0.4708, 'precision @ rank': 0.1279, 'time': 0.133}\n",
      "{'benchmark': 'skin_benchmark_0009.csv', 'model': 'KNN', 'AUC': 0.7079, 'precision @ rank': 0.2448, 'time': 0.055}\n",
      "{'benchmark': 'skin_benchmark_0009.csv', 'model': 'LOF', 'AUC': 0.4325, 'precision @ rank': 0.0979, 'time': 0.134}\n",
      "{'benchmark': 'skin_benchmark_0009.csv', 'model': 'PCA', 'AUC': 0.4515, 'precision @ rank': 0.0979, 'time': 0.017}\n",
      "{'benchmark': 'skin_benchmark_0009.csv', 'model': 'LODA', 'AUC': 0.5369, 'precision @ rank': 0.1051, 'time': 0.1455}\n",
      "{'benchmark': 'skin_benchmark_0010.csv', 'model': 'KNN', 'AUC': 0.7133, 'precision @ rank': 0.1853, 'time': 0.084}\n",
      "{'benchmark': 'skin_benchmark_0010.csv', 'model': 'LOF', 'AUC': 0.4057, 'precision @ rank': 0.0691, 'time': 0.132}\n",
      "{'benchmark': 'skin_benchmark_0010.csv', 'model': 'PCA', 'AUC': 0.4386, 'precision @ rank': 0.0876, 'time': 0.016}\n",
      "{'benchmark': 'skin_benchmark_0010.csv', 'model': 'LODA', 'AUC': 0.5397, 'precision @ rank': 0.0725, 'time': 0.142}\n",
      "{'benchmark': 'skin_benchmark_0011.csv', 'model': 'KNN', 'AUC': 0.6618, 'precision @ rank': 0.2713, 'time': 0.205}\n",
      "{'benchmark': 'skin_benchmark_0011.csv', 'model': 'LOF', 'AUC': 0.3694, 'precision @ rank': 0.0922, 'time': 0.323}\n",
      "{'benchmark': 'skin_benchmark_0011.csv', 'model': 'PCA', 'AUC': 0.427, 'precision @ rank': 0.1076, 'time': 0.018}\n",
      "{'benchmark': 'skin_benchmark_0011.csv', 'model': 'LODA', 'AUC': 0.5282, 'precision @ rank': 0.1407, 'time': 0.095}\n",
      "{'benchmark': 'skin_benchmark_0012.csv', 'model': 'KNN', 'AUC': 0.6706, 'precision @ rank': 0.2539, 'time': 0.167}\n",
      "{'benchmark': 'skin_benchmark_0012.csv', 'model': 'LOF', 'AUC': 0.398, 'precision @ rank': 0.1107, 'time': 0.303}\n",
      "{'benchmark': 'skin_benchmark_0012.csv', 'model': 'PCA', 'AUC': 0.4355, 'precision @ rank': 0.0968, 'time': 0.016}\n",
      "{'benchmark': 'skin_benchmark_0012.csv', 'model': 'LODA', 'AUC': 0.5139, 'precision @ rank': 0.1188, 'time': 0.162}\n",
      "{'benchmark': 'skin_benchmark_0013.csv', 'model': 'KNN', 'AUC': 0.6513, 'precision @ rank': 0.2232, 'time': 0.178}\n",
      "{'benchmark': 'skin_benchmark_0013.csv', 'model': 'LOF', 'AUC': 0.3826, 'precision @ rank': 0.0972, 'time': 0.319}\n",
      "{'benchmark': 'skin_benchmark_0013.csv', 'model': 'PCA', 'AUC': 0.4181, 'precision @ rank': 0.0832, 'time': 0.014}\n",
      "{'benchmark': 'skin_benchmark_0013.csv', 'model': 'LODA', 'AUC': 0.5266, 'precision @ rank': 0.1812, 'time': 0.141}\n",
      "{'benchmark': 'skin_benchmark_0014.csv', 'model': 'KNN', 'AUC': 0.6628, 'precision @ rank': 0.2642, 'time': 0.198}\n",
      "{'benchmark': 'skin_benchmark_0014.csv', 'model': 'LOF', 'AUC': 0.4187, 'precision @ rank': 0.1144, 'time': 0.238}\n",
      "{'benchmark': 'skin_benchmark_0014.csv', 'model': 'PCA', 'AUC': 0.4285, 'precision @ rank': 0.0823, 'time': 0.02}\n",
      "{'benchmark': 'skin_benchmark_0014.csv', 'model': 'LODA', 'AUC': 0.4356, 'precision @ rank': 0.1243, 'time': 0.085}\n",
      "{'benchmark': 'skin_benchmark_0015.csv', 'model': 'KNN', 'AUC': 0.6667, 'precision @ rank': 0.2634, 'time': 0.206}\n",
      "{'benchmark': 'skin_benchmark_0015.csv', 'model': 'LOF', 'AUC': 0.3926, 'precision @ rank': 0.1024, 'time': 0.3}\n",
      "{'benchmark': 'skin_benchmark_0015.csv', 'model': 'PCA', 'AUC': 0.4317, 'precision @ rank': 0.1081, 'time': 0.014}\n",
      "{'benchmark': 'skin_benchmark_0015.csv', 'model': 'LODA', 'AUC': 0.5118, 'precision @ rank': 0.174, 'time': 0.12}\n",
      "{'benchmark': 'skin_benchmark_0016.csv', 'model': 'KNN', 'AUC': 0.6278, 'precision @ rank': 0.2613, 'time': 1.0547}\n",
      "{'benchmark': 'skin_benchmark_0016.csv', 'model': 'LOF', 'AUC': 0.5611, 'precision @ rank': 0.1957, 'time': 1.2856}\n",
      "{'benchmark': 'skin_benchmark_0016.csv', 'model': 'PCA', 'AUC': 0.4478, 'precision @ rank': 0.1269, 'time': 0.021}\n",
      "{'benchmark': 'skin_benchmark_0016.csv', 'model': 'LODA', 'AUC': 0.4378, 'precision @ rank': 0.122, 'time': 0.097}\n",
      "{'benchmark': 'skin_benchmark_0017.csv', 'model': 'KNN', 'AUC': 0.6261, 'precision @ rank': 0.2705, 'time': 0.9061}\n",
      "{'benchmark': 'skin_benchmark_0017.csv', 'model': 'LOF', 'AUC': 0.5409, 'precision @ rank': 0.2063, 'time': 1.2801}\n",
      "{'benchmark': 'skin_benchmark_0017.csv', 'model': 'PCA', 'AUC': 0.4578, 'precision @ rank': 0.1391, 'time': 0.022}\n",
      "{'benchmark': 'skin_benchmark_0017.csv', 'model': 'LODA', 'AUC': 0.4729, 'precision @ rank': 0.1677, 'time': 0.089}\n",
      "{'benchmark': 'skin_benchmark_0018.csv', 'model': 'KNN', 'AUC': 0.6301, 'precision @ rank': 0.2892, 'time': 0.9211}\n",
      "{'benchmark': 'skin_benchmark_0018.csv', 'model': 'LOF', 'AUC': 0.5538, 'precision @ rank': 0.2055, 'time': 1.2619}\n",
      "{'benchmark': 'skin_benchmark_0018.csv', 'model': 'PCA', 'AUC': 0.4577, 'precision @ rank': 0.1461, 'time': 0.026}\n",
      "{'benchmark': 'skin_benchmark_0018.csv', 'model': 'LODA', 'AUC': 0.4981, 'precision @ rank': 0.191, 'time': 0.115}\n"
     ]
    },
    {
     "name": "stdout",
     "output_type": "stream",
     "text": [
      "{'benchmark': 'skin_benchmark_0019.csv', 'model': 'KNN', 'AUC': 0.6201, 'precision @ rank': 0.2647, 'time': 1.1348}\n",
      "{'benchmark': 'skin_benchmark_0019.csv', 'model': 'LOF', 'AUC': 0.5676, 'precision @ rank': 0.222, 'time': 1.4096}\n",
      "{'benchmark': 'skin_benchmark_0019.csv', 'model': 'PCA', 'AUC': 0.4445, 'precision @ rank': 0.1191, 'time': 0.028}\n",
      "{'benchmark': 'skin_benchmark_0019.csv', 'model': 'LODA', 'AUC': 0.4923, 'precision @ rank': 0.1625, 'time': 0.108}\n",
      "{'benchmark': 'skin_benchmark_0020.csv', 'model': 'KNN', 'AUC': 0.6535, 'precision @ rank': 0.2823, 'time': 1.0692}\n",
      "{'benchmark': 'skin_benchmark_0020.csv', 'model': 'LOF', 'AUC': 0.594, 'precision @ rank': 0.225, 'time': 1.3496}\n",
      "{'benchmark': 'skin_benchmark_0020.csv', 'model': 'PCA', 'AUC': 0.4593, 'precision @ rank': 0.1432, 'time': 0.023}\n",
      "{'benchmark': 'skin_benchmark_0020.csv', 'model': 'LODA', 'AUC': 0.4651, 'precision @ rank': 0.1252, 'time': 0.094}\n",
      "{'benchmark': 'skin_benchmark_0021.csv', 'model': 'KNN', 'AUC': 0.7423, 'precision @ rank': 0.317, 'time': 0.048}\n",
      "{'benchmark': 'skin_benchmark_0021.csv', 'model': 'LOF', 'AUC': 0.4799, 'precision @ rank': 0.1447, 'time': 0.09}\n",
      "{'benchmark': 'skin_benchmark_0021.csv', 'model': 'PCA', 'AUC': 0.7723, 'precision @ rank': 0.3573, 'time': 0.019}\n",
      "{'benchmark': 'skin_benchmark_0021.csv', 'model': 'LODA', 'AUC': 0.645, 'precision @ rank': 0.3609, 'time': 0.154}\n",
      "{'benchmark': 'skin_benchmark_0022.csv', 'model': 'KNN', 'AUC': 0.6285, 'precision @ rank': 0.2688, 'time': 0.055}\n",
      "{'benchmark': 'skin_benchmark_0022.csv', 'model': 'LOF', 'AUC': 0.4919, 'precision @ rank': 0.1997, 'time': 0.086}\n",
      "{'benchmark': 'skin_benchmark_0022.csv', 'model': 'PCA', 'AUC': 0.6562, 'precision @ rank': 0.4109, 'time': 0.017}\n",
      "{'benchmark': 'skin_benchmark_0022.csv', 'model': 'LODA', 'AUC': 0.7291, 'precision @ rank': 0.5397, 'time': 0.09}\n",
      "{'benchmark': 'skin_benchmark_0023.csv', 'model': 'KNN', 'AUC': 0.5918, 'precision @ rank': 0.2354, 'time': 0.057}\n",
      "{'benchmark': 'skin_benchmark_0023.csv', 'model': 'LOF', 'AUC': 0.4745, 'precision @ rank': 0.1917, 'time': 0.105}\n",
      "{'benchmark': 'skin_benchmark_0023.csv', 'model': 'PCA', 'AUC': 0.5504, 'precision @ rank': 0.4365, 'time': 0.016}\n",
      "{'benchmark': 'skin_benchmark_0023.csv', 'model': 'LODA', 'AUC': 0.7135, 'precision @ rank': 0.4512, 'time': 0.095}\n",
      "{'benchmark': 'skin_benchmark_0024.csv', 'model': 'KNN', 'AUC': 0.634, 'precision @ rank': 0.2767, 'time': 0.05}\n",
      "{'benchmark': 'skin_benchmark_0024.csv', 'model': 'LOF', 'AUC': 0.4869, 'precision @ rank': 0.1753, 'time': 0.168}\n",
      "{'benchmark': 'skin_benchmark_0024.csv', 'model': 'PCA', 'AUC': 0.7259, 'precision @ rank': 0.467, 'time': 0.017}\n",
      "{'benchmark': 'skin_benchmark_0024.csv', 'model': 'LODA', 'AUC': 0.8483, 'precision @ rank': 0.619, 'time': 0.121}\n",
      "{'benchmark': 'skin_benchmark_0025.csv', 'model': 'KNN', 'AUC': 0.7315, 'precision @ rank': 0.2995, 'time': 0.064}\n",
      "{'benchmark': 'skin_benchmark_0025.csv', 'model': 'LOF', 'AUC': 0.4549, 'precision @ rank': 0.1071, 'time': 0.104}\n",
      "{'benchmark': 'skin_benchmark_0025.csv', 'model': 'PCA', 'AUC': 0.771, 'precision @ rank': 0.3531, 'time': 0.017}\n",
      "{'benchmark': 'skin_benchmark_0025.csv', 'model': 'LODA', 'AUC': 0.6087, 'precision @ rank': 0.1378, 'time': 0.136}\n",
      "{'benchmark': 'skin_benchmark_0026.csv', 'model': 'KNN', 'AUC': 0.75, 'precision @ rank': 0.2864, 'time': 0.071}\n",
      "{'benchmark': 'skin_benchmark_0026.csv', 'model': 'LOF', 'AUC': 0.4251, 'precision @ rank': 0.1066, 'time': 0.135}\n",
      "{'benchmark': 'skin_benchmark_0026.csv', 'model': 'PCA', 'AUC': 0.7473, 'precision @ rank': 0.297, 'time': 0.013}\n",
      "{'benchmark': 'skin_benchmark_0026.csv', 'model': 'LODA', 'AUC': 0.8153, 'precision @ rank': 0.4247, 'time': 0.093}\n",
      "{'benchmark': 'skin_benchmark_0027.csv', 'model': 'KNN', 'AUC': 0.7255, 'precision @ rank': 0.2857, 'time': 0.08}\n",
      "{'benchmark': 'skin_benchmark_0027.csv', 'model': 'LOF', 'AUC': 0.4572, 'precision @ rank': 0.1348, 'time': 0.126}\n",
      "{'benchmark': 'skin_benchmark_0027.csv', 'model': 'PCA', 'AUC': 0.7353, 'precision @ rank': 0.2994, 'time': 0.014}\n",
      "{'benchmark': 'skin_benchmark_0027.csv', 'model': 'LODA', 'AUC': 0.6225, 'precision @ rank': 0.1832, 'time': 0.14}\n",
      "{'benchmark': 'skin_benchmark_0028.csv', 'model': 'KNN', 'AUC': 0.7341, 'precision @ rank': 0.2936, 'time': 0.069}\n",
      "{'benchmark': 'skin_benchmark_0028.csv', 'model': 'LOF', 'AUC': 0.4622, 'precision @ rank': 0.104, 'time': 0.13}\n",
      "{'benchmark': 'skin_benchmark_0028.csv', 'model': 'PCA', 'AUC': 0.7268, 'precision @ rank': 0.2475, 'time': 0.014}\n",
      "{'benchmark': 'skin_benchmark_0028.csv', 'model': 'LODA', 'AUC': 0.6399, 'precision @ rank': 0.2072, 'time': 0.091}\n",
      "{'benchmark': 'skin_benchmark_0029.csv', 'model': 'KNN', 'AUC': 0.6607, 'precision @ rank': 0.2325, 'time': 0.088}\n",
      "{'benchmark': 'skin_benchmark_0029.csv', 'model': 'LOF', 'AUC': 0.4515, 'precision @ rank': 0.1821, 'time': 0.1425}\n",
      "{'benchmark': 'skin_benchmark_0029.csv', 'model': 'PCA', 'AUC': 0.637, 'precision @ rank': 0.3837, 'time': 0.018}\n",
      "{'benchmark': 'skin_benchmark_0029.csv', 'model': 'LODA', 'AUC': 0.736, 'precision @ rank': 0.3325, 'time': 0.13}\n",
      "{'benchmark': 'skin_benchmark_0030.csv', 'model': 'KNN', 'AUC': 0.7294, 'precision @ rank': 0.293, 'time': 0.102}\n",
      "{'benchmark': 'skin_benchmark_0030.csv', 'model': 'LOF', 'AUC': 0.4453, 'precision @ rank': 0.1155, 'time': 0.163}\n",
      "{'benchmark': 'skin_benchmark_0030.csv', 'model': 'PCA', 'AUC': 0.7254, 'precision @ rank': 0.2954, 'time': 0.017}\n",
      "{'benchmark': 'skin_benchmark_0030.csv', 'model': 'LODA', 'AUC': 0.7198, 'precision @ rank': 0.2734, 'time': 0.134}\n",
      "{'benchmark': 'skin_benchmark_0031.csv', 'model': 'KNN', 'AUC': 0.7432, 'precision @ rank': 0.3052, 'time': 0.174}\n",
      "{'benchmark': 'skin_benchmark_0031.csv', 'model': 'LOF', 'AUC': 0.4161, 'precision @ rank': 0.1184, 'time': 0.289}\n",
      "{'benchmark': 'skin_benchmark_0031.csv', 'model': 'PCA', 'AUC': 0.6958, 'precision @ rank': 0.2923, 'time': 0.015}\n",
      "{'benchmark': 'skin_benchmark_0031.csv', 'model': 'LODA', 'AUC': 0.6939, 'precision @ rank': 0.2617, 'time': 0.102}\n",
      "{'benchmark': 'skin_benchmark_0032.csv', 'model': 'KNN', 'AUC': 0.6907, 'precision @ rank': 0.2882, 'time': 0.159}\n",
      "{'benchmark': 'skin_benchmark_0032.csv', 'model': 'LOF', 'AUC': 0.4171, 'precision @ rank': 0.1247, 'time': 0.273}\n",
      "{'benchmark': 'skin_benchmark_0032.csv', 'model': 'PCA', 'AUC': 0.6347, 'precision @ rank': 0.2378, 'time': 0.021}\n",
      "{'benchmark': 'skin_benchmark_0032.csv', 'model': 'LODA', 'AUC': 0.654, 'precision @ rank': 0.2287, 'time': 0.1385}\n",
      "{'benchmark': 'skin_benchmark_0033.csv', 'model': 'KNN', 'AUC': 0.662, 'precision @ rank': 0.2796, 'time': 0.162}\n",
      "{'benchmark': 'skin_benchmark_0033.csv', 'model': 'LOF', 'AUC': 0.425, 'precision @ rank': 0.1462, 'time': 0.317}\n",
      "{'benchmark': 'skin_benchmark_0033.csv', 'model': 'PCA', 'AUC': 0.6158, 'precision @ rank': 0.2923, 'time': 0.019}\n",
      "{'benchmark': 'skin_benchmark_0033.csv', 'model': 'LODA', 'AUC': 0.5912, 'precision @ rank': 0.2117, 'time': 0.123}\n",
      "{'benchmark': 'skin_benchmark_0034.csv', 'model': 'KNN', 'AUC': 0.7463, 'precision @ rank': 0.3206, 'time': 0.185}\n",
      "{'benchmark': 'skin_benchmark_0034.csv', 'model': 'LOF', 'AUC': 0.4262, 'precision @ rank': 0.1142, 'time': 0.292}\n",
      "{'benchmark': 'skin_benchmark_0034.csv', 'model': 'PCA', 'AUC': 0.6916, 'precision @ rank': 0.3041, 'time': 0.024}\n",
      "{'benchmark': 'skin_benchmark_0034.csv', 'model': 'LODA', 'AUC': 0.5966, 'precision @ rank': 0.2127, 'time': 0.117}\n",
      "{'benchmark': 'skin_benchmark_0035.csv', 'model': 'KNN', 'AUC': 0.7229, 'precision @ rank': 0.2979, 'time': 0.155}\n",
      "{'benchmark': 'skin_benchmark_0035.csv', 'model': 'LOF', 'AUC': 0.4521, 'precision @ rank': 0.133, 'time': 0.256}\n",
      "{'benchmark': 'skin_benchmark_0035.csv', 'model': 'PCA', 'AUC': 0.6486, 'precision @ rank': 0.2197, 'time': 0.017}\n",
      "{'benchmark': 'skin_benchmark_0035.csv', 'model': 'LODA', 'AUC': 0.5849, 'precision @ rank': 0.1639, 'time': 0.169}\n",
      "{'benchmark': 'skin_benchmark_0036.csv', 'model': 'KNN', 'AUC': 0.6981, 'precision @ rank': 0.3559, 'time': 0.9161}\n",
      "{'benchmark': 'skin_benchmark_0036.csv', 'model': 'LOF', 'AUC': 0.5405, 'precision @ rank': 0.2204, 'time': 1.2281}\n",
      "{'benchmark': 'skin_benchmark_0036.csv', 'model': 'PCA', 'AUC': 0.6217, 'precision @ rank': 0.2632, 'time': 0.023}\n",
      "{'benchmark': 'skin_benchmark_0036.csv', 'model': 'LODA', 'AUC': 0.5858, 'precision @ rank': 0.2375, 'time': 0.101}\n"
     ]
    },
    {
     "name": "stdout",
     "output_type": "stream",
     "text": [
      "{'benchmark': 'skin_benchmark_0037.csv', 'model': 'KNN', 'AUC': 0.6786, 'precision @ rank': 0.3454, 'time': 0.9071}\n",
      "{'benchmark': 'skin_benchmark_0037.csv', 'model': 'LOF', 'AUC': 0.5629, 'precision @ rank': 0.2333, 'time': 1.1801}\n",
      "{'benchmark': 'skin_benchmark_0037.csv', 'model': 'PCA', 'AUC': 0.5804, 'precision @ rank': 0.2724, 'time': 0.026}\n",
      "{'benchmark': 'skin_benchmark_0037.csv', 'model': 'LODA', 'AUC': 0.5653, 'precision @ rank': 0.2809, 'time': 0.107}\n",
      "{'benchmark': 'skin_benchmark_0038.csv', 'model': 'KNN', 'AUC': 0.7389, 'precision @ rank': 0.3789, 'time': 1.1089}\n",
      "{'benchmark': 'skin_benchmark_0038.csv', 'model': 'LOF', 'AUC': 0.5334, 'precision @ rank': 0.2208, 'time': 1.3286}\n",
      "{'benchmark': 'skin_benchmark_0038.csv', 'model': 'PCA', 'AUC': 0.6335, 'precision @ rank': 0.2828, 'time': 0.024}\n",
      "{'benchmark': 'skin_benchmark_0038.csv', 'model': 'LODA', 'AUC': 0.5945, 'precision @ rank': 0.2573, 'time': 0.104}\n",
      "{'benchmark': 'skin_benchmark_0039.csv', 'model': 'KNN', 'AUC': 0.7306, 'precision @ rank': 0.3589, 'time': 1.0592}\n",
      "{'benchmark': 'skin_benchmark_0039.csv', 'model': 'LOF', 'AUC': 0.5408, 'precision @ rank': 0.2154, 'time': 1.2151}\n",
      "{'benchmark': 'skin_benchmark_0039.csv', 'model': 'PCA', 'AUC': 0.6296, 'precision @ rank': 0.2421, 'time': 0.028}\n",
      "{'benchmark': 'skin_benchmark_0039.csv', 'model': 'LODA', 'AUC': 0.5701, 'precision @ rank': 0.1953, 'time': 0.108}\n",
      "{'benchmark': 'skin_benchmark_0040.csv', 'model': 'KNN', 'AUC': 0.733, 'precision @ rank': 0.3686, 'time': 1.0051}\n",
      "{'benchmark': 'skin_benchmark_0040.csv', 'model': 'LOF', 'AUC': 0.5227, 'precision @ rank': 0.2138, 'time': 1.2716}\n",
      "{'benchmark': 'skin_benchmark_0040.csv', 'model': 'PCA', 'AUC': 0.6382, 'precision @ rank': 0.2932, 'time': 0.024}\n",
      "{'benchmark': 'skin_benchmark_0040.csv', 'model': 'LODA', 'AUC': 0.5925, 'precision @ rank': 0.2613, 'time': 0.139}\n"
     ]
    }
   ],
   "source": [
    "import os\n",
    "import time\n",
    "benchmark_path = \"data/skin/benchmarks\"\n",
    "#记录结果的DataFrame\n",
    "result = pd.DataFrame({\n",
    "    \"benchmark\":[],\n",
    "    \"model\":[],\n",
    "    \"AUC\":[],\n",
    "    \"precision @ rank\":[],\n",
    "    \"time\": []\n",
    "})\n",
    "\n",
    "for b in os.listdir(benchmark_path)[:40]:\n",
    "    p = os.path.join(benchmark_path,b)\n",
    "    df = pd.read_csv(p)\n",
    "    x_train = create_features(df)\n",
    "    y_train = get_label(df)\n",
    "    c = y_train.count(1)/len(y_train)\n",
    "    for k in models:\n",
    "        t0 = time.time()\n",
    "        clf_name = k\n",
    "        clf = eval(k)(contamination = c)# 初始化检测器\n",
    "        clf.fit(x_train)\n",
    "        #得到训练数据的预测标签和离群值\n",
    "        y_train_pred = clf.labels_  \n",
    "        y_train_scores = clf.decision_scores_ \n",
    "        #输出并写入DataFrame\n",
    "        auc = round(roc_auc_score(y_train, y_train_scores), ndigits=4)\n",
    "        prn = round(precision_n_scores(y_train, y_train_scores), ndigits=4)\n",
    "        t1 = time.time()\n",
    "        duration = round(t1 - t0, ndigits=4)    \n",
    "        tmp_dict = { \"benchmark\":b,\"model\":k,\"AUC\":auc,\"precision @ rank\":prn,\"time\": duration}\n",
    "        print(tmp_dict)\n",
    "        new = pd.DataFrame(tmp_dict, index=[1])\n",
    "        result = result.append(new,ignore_index=True)"
   ]
  },
  {
   "cell_type": "code",
   "execution_count": 73,
   "metadata": {},
   "outputs": [],
   "source": [
    "result.to_csv(\"output/skin_result.csv\")"
   ]
  },
  {
   "cell_type": "markdown",
   "metadata": {},
   "source": [
    "## 结果分析"
   ]
  },
  {
   "cell_type": "code",
   "execution_count": 72,
   "metadata": {
    "scrolled": true
   },
   "outputs": [
    {
     "data": {
      "text/html": [
       "<div>\n",
       "<style scoped>\n",
       "    .dataframe tbody tr th:only-of-type {\n",
       "        vertical-align: middle;\n",
       "    }\n",
       "\n",
       "    .dataframe tbody tr th {\n",
       "        vertical-align: top;\n",
       "    }\n",
       "\n",
       "    .dataframe thead th {\n",
       "        text-align: right;\n",
       "    }\n",
       "</style>\n",
       "<table border=\"1\" class=\"dataframe\">\n",
       "  <thead>\n",
       "    <tr style=\"text-align: right;\">\n",
       "      <th></th>\n",
       "      <th>benchmark</th>\n",
       "      <th>model</th>\n",
       "      <th>AUC</th>\n",
       "      <th>precision @ rank</th>\n",
       "      <th>time</th>\n",
       "    </tr>\n",
       "  </thead>\n",
       "  <tbody>\n",
       "    <tr>\n",
       "      <th>0</th>\n",
       "      <td>skin_benchmark_0001.csv</td>\n",
       "      <td>KNN</td>\n",
       "      <td>0.7181</td>\n",
       "      <td>0.2432</td>\n",
       "      <td>0.0510</td>\n",
       "    </tr>\n",
       "    <tr>\n",
       "      <th>1</th>\n",
       "      <td>skin_benchmark_0001.csv</td>\n",
       "      <td>LOF</td>\n",
       "      <td>0.4534</td>\n",
       "      <td>0.1027</td>\n",
       "      <td>0.1010</td>\n",
       "    </tr>\n",
       "    <tr>\n",
       "      <th>2</th>\n",
       "      <td>skin_benchmark_0001.csv</td>\n",
       "      <td>PCA</td>\n",
       "      <td>0.4572</td>\n",
       "      <td>0.0288</td>\n",
       "      <td>0.0220</td>\n",
       "    </tr>\n",
       "    <tr>\n",
       "      <th>3</th>\n",
       "      <td>skin_benchmark_0001.csv</td>\n",
       "      <td>LODA</td>\n",
       "      <td>0.4417</td>\n",
       "      <td>0.0422</td>\n",
       "      <td>0.1296</td>\n",
       "    </tr>\n",
       "    <tr>\n",
       "      <th>4</th>\n",
       "      <td>skin_benchmark_0002.csv</td>\n",
       "      <td>KNN</td>\n",
       "      <td>0.7129</td>\n",
       "      <td>0.2327</td>\n",
       "      <td>0.0410</td>\n",
       "    </tr>\n",
       "    <tr>\n",
       "      <th>...</th>\n",
       "      <td>...</td>\n",
       "      <td>...</td>\n",
       "      <td>...</td>\n",
       "      <td>...</td>\n",
       "      <td>...</td>\n",
       "    </tr>\n",
       "    <tr>\n",
       "      <th>155</th>\n",
       "      <td>skin_benchmark_0039.csv</td>\n",
       "      <td>LODA</td>\n",
       "      <td>0.5701</td>\n",
       "      <td>0.1953</td>\n",
       "      <td>0.1080</td>\n",
       "    </tr>\n",
       "    <tr>\n",
       "      <th>156</th>\n",
       "      <td>skin_benchmark_0040.csv</td>\n",
       "      <td>KNN</td>\n",
       "      <td>0.7330</td>\n",
       "      <td>0.3686</td>\n",
       "      <td>1.0051</td>\n",
       "    </tr>\n",
       "    <tr>\n",
       "      <th>157</th>\n",
       "      <td>skin_benchmark_0040.csv</td>\n",
       "      <td>LOF</td>\n",
       "      <td>0.5227</td>\n",
       "      <td>0.2138</td>\n",
       "      <td>1.2716</td>\n",
       "    </tr>\n",
       "    <tr>\n",
       "      <th>158</th>\n",
       "      <td>skin_benchmark_0040.csv</td>\n",
       "      <td>PCA</td>\n",
       "      <td>0.6382</td>\n",
       "      <td>0.2932</td>\n",
       "      <td>0.0240</td>\n",
       "    </tr>\n",
       "    <tr>\n",
       "      <th>159</th>\n",
       "      <td>skin_benchmark_0040.csv</td>\n",
       "      <td>LODA</td>\n",
       "      <td>0.5925</td>\n",
       "      <td>0.2613</td>\n",
       "      <td>0.1390</td>\n",
       "    </tr>\n",
       "  </tbody>\n",
       "</table>\n",
       "<p>160 rows × 5 columns</p>\n",
       "</div>"
      ],
      "text/plain": [
       "                   benchmark model     AUC  precision @ rank    time\n",
       "0    skin_benchmark_0001.csv   KNN  0.7181            0.2432  0.0510\n",
       "1    skin_benchmark_0001.csv   LOF  0.4534            0.1027  0.1010\n",
       "2    skin_benchmark_0001.csv   PCA  0.4572            0.0288  0.0220\n",
       "3    skin_benchmark_0001.csv  LODA  0.4417            0.0422  0.1296\n",
       "4    skin_benchmark_0002.csv   KNN  0.7129            0.2327  0.0410\n",
       "..                       ...   ...     ...               ...     ...\n",
       "155  skin_benchmark_0039.csv  LODA  0.5701            0.1953  0.1080\n",
       "156  skin_benchmark_0040.csv   KNN  0.7330            0.3686  1.0051\n",
       "157  skin_benchmark_0040.csv   LOF  0.5227            0.2138  1.2716\n",
       "158  skin_benchmark_0040.csv   PCA  0.6382            0.2932  0.0240\n",
       "159  skin_benchmark_0040.csv  LODA  0.5925            0.2613  0.1390\n",
       "\n",
       "[160 rows x 5 columns]"
      ]
     },
     "execution_count": 72,
     "metadata": {},
     "output_type": "execute_result"
    }
   ],
   "source": [
    "result"
   ]
  },
  {
   "cell_type": "code",
   "execution_count": 74,
   "metadata": {
    "scrolled": true
   },
   "outputs": [
    {
     "name": "stdout",
     "output_type": "stream",
     "text": [
      "AUC                 0.692453\n",
      "precision @ rank    0.275473\n",
      "time                0.329732\n",
      "dtype: float64\n",
      "benchmark           skin_benchmark_0040.csv\n",
      "model                                   KNN\n",
      "AUC                                    0.75\n",
      "precision @ rank                     0.3789\n",
      "time                                 1.1348\n",
      "dtype: object\n"
     ]
    }
   ],
   "source": [
    "result_knn = result[result[\"model\"]==\"KNN\"]\n",
    "print(result_knn.mean())\n",
    "print(result_knn.max())"
   ]
  },
  {
   "cell_type": "code",
   "execution_count": 75,
   "metadata": {},
   "outputs": [
    {
     "name": "stdout",
     "output_type": "stream",
     "text": [
      "AUC                 0.462570\n",
      "precision @ rank    0.145435\n",
      "time                0.450595\n",
      "dtype: float64\n",
      "benchmark           skin_benchmark_0040.csv\n",
      "model                                   LOF\n",
      "AUC                                   0.594\n",
      "precision @ rank                     0.2333\n",
      "time                                 1.4096\n",
      "dtype: object\n"
     ]
    }
   ],
   "source": [
    "result_lof = result[result[\"model\"]==\"LOF\"]\n",
    "print(result_lof.mean())\n",
    "print(result_lof.max())"
   ]
  },
  {
   "cell_type": "code",
   "execution_count": 76,
   "metadata": {},
   "outputs": [
    {
     "name": "stdout",
     "output_type": "stream",
     "text": [
      "AUC                 0.556698\n",
      "precision @ rank    0.200435\n",
      "time                0.019173\n",
      "dtype: float64\n",
      "benchmark           skin_benchmark_0040.csv\n",
      "model                                   PCA\n",
      "AUC                                  0.7723\n",
      "precision @ rank                      0.467\n",
      "time                                  0.028\n",
      "dtype: object\n"
     ]
    }
   ],
   "source": [
    "result_pca = result[result[\"model\"]==\"PCA\"]\n",
    "print(result_pca.mean())\n",
    "print(result_pca.max())"
   ]
  },
  {
   "cell_type": "code",
   "execution_count": 77,
   "metadata": {
    "scrolled": false
   },
   "outputs": [
    {
     "name": "stdout",
     "output_type": "stream",
     "text": [
      "AUC                 0.568947\n",
      "precision @ rank    0.201280\n",
      "time                0.118265\n",
      "dtype: float64\n",
      "benchmark           skin_benchmark_0040.csv\n",
      "model                                  LODA\n",
      "AUC                                  0.8483\n",
      "precision @ rank                      0.619\n",
      "time                                  0.169\n",
      "dtype: object\n"
     ]
    }
   ],
   "source": [
    "result_loda = result[result[\"model\"]==\"LODA\"]\n",
    "print(result_loda.mean())\n",
    "print(result_loda.max())"
   ]
  },
  {
   "cell_type": "markdown",
   "metadata": {},
   "source": [
    "可视化显示"
   ]
  },
  {
   "cell_type": "code",
   "execution_count": 79,
   "metadata": {
    "scrolled": true
   },
   "outputs": [
    {
     "data": {
      "image/png": "[encoded data removed]",
      "text/plain": [
       "<Figure size 432x288 with 1 Axes>"
      ]
     },
     "metadata": {
      "needs_background": "light"
     },
     "output_type": "display_data"
    }
   ],
   "source": [
    "colors1 = '#00CED1' \n",
    "colors2 = '#DC143C'\n",
    "colors = [\"#00CED1\",\"#DC143C\",\"#22143C\",\"#0040C2\"]\n",
    "plt.scatter(x=result_knn[\"time\"], y= result_knn[\"AUC\"], c=colors[0])\n",
    "plt.scatter(x=result_lof[\"time\"], y= result_lof[\"AUC\"], c=colors[1])\n",
    "plt.scatter(x=result_pca[\"time\"], y= result_pca[\"AUC\"], c=colors[2])\n",
    "plt.scatter(x=result_loda[\"time\"], y= result_loda[\"AUC\"], c=colors[3])\n",
    "plt.legend([\"KNN\",\"LOF\",\"PCA\",\"LODA\"])\n",
    "plt.show()"
   ]
  },
  {
   "cell_type": "markdown",
   "metadata": {},
   "source": [
    "KNN算法的表现相对要最好，LOF的表现较差。"
   ]
  }
 ],
 "metadata": {
  "kernelspec": {
   "display_name": "Python 3",
   "language": "python",
   "name": "python3"
  },
  "language_info": {
   "codemirror_mode": {
    "name": "ipython",
    "version": 3
   },
   "file_extension": ".py",
   "mimetype": "text/x-python",
   "name": "python",
   "nbconvert_exporter": "python",
   "pygments_lexer": "ipython3",
   "version": "3.8.2"
  }
 },
 "nbformat": 4,
 "nbformat_minor": 4
}

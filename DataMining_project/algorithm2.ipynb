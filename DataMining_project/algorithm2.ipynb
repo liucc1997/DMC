{
 "cells": [
  {
   "cell_type": "markdown",
   "metadata": {},
   "source": [
    "## 算法实现-2"
   ]
  },
  {
   "cell_type": "markdown",
   "metadata": {},
   "source": [
    "### 载入数据"
   ]
  },
  {
   "cell_type": "code",
   "execution_count": 1,
   "metadata": {},
   "outputs": [],
   "source": [
    "import matplotlib\n",
    "import numpy as np\n",
    "import pandas as pd\n",
    "%matplotlib inline\n",
    "from matplotlib import pyplot as plt\n",
    "from sklearn import tree\n",
    "from sklearn.model_selection import train_test_split\n",
    "from sklearn.metrics import mean_absolute_error\n",
    "from sklearn.preprocessing import StandardScaler\n",
    "from xgboost.sklearn import XGBRegressor\n",
    "from sklearn.ensemble import RandomForestRegressor\n",
    "import joblib"
   ]
  },
  {
   "cell_type": "markdown",
   "metadata": {},
   "source": [
    "读入经过预处理的数据"
   ]
  },
  {
   "cell_type": "code",
   "execution_count": 2,
   "metadata": {},
   "outputs": [],
   "source": [
    "train_path = \"data/train_data_v1.csv\"\n",
    "train_data = pd.read_csv(train_path,sep=\" \")\n",
    "test_path = \"data/test_data_v1.csv\"\n",
    "test_data = pd.read_csv(test_path,sep=\" \")\n",
    "data = train_data.copy(deep=True)"
   ]
  },
  {
   "cell_type": "markdown",
   "metadata": {},
   "source": [
    "### 特征选择"
   ]
  },
  {
   "cell_type": "markdown",
   "metadata": {},
   "source": [
    "选择作为特征的属性如choosed_attris所列出，根据检验推测二手车的使用时间与其价格应该成反比，所以计算regdate和createdate的差得到车辆的使用时间，也作为其中一个特征。"
   ]
  },
  {
   "cell_type": "code",
   "execution_count": 3,
   "metadata": {},
   "outputs": [],
   "source": [
    "data['used_time'] = (pd.to_datetime(data['creatDates'], format='%Y-%m-%d', errors='coerce') - \n",
    "                            pd.to_datetime(data['regDates'], format='%Y-%m-%d', errors='coerce')).dt.days\n",
    "choosed_attris = [\"bodyType\",\"brand\",\"kilometer\",\n",
    "              'model', 'notRepairedDamage', 'power',\n",
    "              'v_0', 'v_1', 'v_10', 'v_11', 'v_12', 'v_13', 'v_14',\n",
    "               'v_2', 'v_3', 'v_4', 'v_5', 'v_6', 'v_7', 'v_8', 'v_9', \n",
    "              'regDate_year',\n",
    "              'name_count','used_time']\n",
    "train = data[choosed_attris]\n",
    "label = data[\"price\"]"
   ]
  },
  {
   "cell_type": "code",
   "execution_count": 4,
   "metadata": {
    "scrolled": false
   },
   "outputs": [
    {
     "data": {
      "text/html": [
       "<div>\n",
       "<style scoped>\n",
       "    .dataframe tbody tr th:only-of-type {\n",
       "        vertical-align: middle;\n",
       "    }\n",
       "\n",
       "    .dataframe tbody tr th {\n",
       "        vertical-align: top;\n",
       "    }\n",
       "\n",
       "    .dataframe thead th {\n",
       "        text-align: right;\n",
       "    }\n",
       "</style>\n",
       "<table border=\"1\" class=\"dataframe\">\n",
       "  <thead>\n",
       "    <tr style=\"text-align: right;\">\n",
       "      <th></th>\n",
       "      <th>bodyType</th>\n",
       "      <th>brand</th>\n",
       "      <th>kilometer</th>\n",
       "      <th>model</th>\n",
       "      <th>notRepairedDamage</th>\n",
       "      <th>power</th>\n",
       "      <th>v_0</th>\n",
       "      <th>v_1</th>\n",
       "      <th>v_10</th>\n",
       "      <th>v_11</th>\n",
       "      <th>...</th>\n",
       "      <th>v_3</th>\n",
       "      <th>v_4</th>\n",
       "      <th>v_5</th>\n",
       "      <th>v_6</th>\n",
       "      <th>v_7</th>\n",
       "      <th>v_8</th>\n",
       "      <th>v_9</th>\n",
       "      <th>regDate_year</th>\n",
       "      <th>name_count</th>\n",
       "      <th>used_time</th>\n",
       "    </tr>\n",
       "  </thead>\n",
       "  <tbody>\n",
       "    <tr>\n",
       "      <th>0</th>\n",
       "      <td>1.0</td>\n",
       "      <td>6</td>\n",
       "      <td>12.5</td>\n",
       "      <td>30.0</td>\n",
       "      <td>0.0</td>\n",
       "      <td>60</td>\n",
       "      <td>43.357796</td>\n",
       "      <td>3.966344</td>\n",
       "      <td>-2.881803</td>\n",
       "      <td>2.804097</td>\n",
       "      <td>...</td>\n",
       "      <td>2.159744</td>\n",
       "      <td>1.143786</td>\n",
       "      <td>0.235676</td>\n",
       "      <td>0.101988</td>\n",
       "      <td>0.129549</td>\n",
       "      <td>0.022816</td>\n",
       "      <td>0.097462</td>\n",
       "      <td>2004</td>\n",
       "      <td>108</td>\n",
       "      <td>4385</td>\n",
       "    </tr>\n",
       "    <tr>\n",
       "      <th>1</th>\n",
       "      <td>2.0</td>\n",
       "      <td>1</td>\n",
       "      <td>15.0</td>\n",
       "      <td>40.0</td>\n",
       "      <td>0.0</td>\n",
       "      <td>0</td>\n",
       "      <td>45.305273</td>\n",
       "      <td>5.236112</td>\n",
       "      <td>-4.900482</td>\n",
       "      <td>2.096338</td>\n",
       "      <td>...</td>\n",
       "      <td>1.380657</td>\n",
       "      <td>-1.422165</td>\n",
       "      <td>0.264777</td>\n",
       "      <td>0.121004</td>\n",
       "      <td>0.135731</td>\n",
       "      <td>0.026597</td>\n",
       "      <td>0.020582</td>\n",
       "      <td>2003</td>\n",
       "      <td>29</td>\n",
       "      <td>4757</td>\n",
       "    </tr>\n",
       "    <tr>\n",
       "      <th>2</th>\n",
       "      <td>1.0</td>\n",
       "      <td>15</td>\n",
       "      <td>12.5</td>\n",
       "      <td>115.0</td>\n",
       "      <td>0.0</td>\n",
       "      <td>163</td>\n",
       "      <td>45.978359</td>\n",
       "      <td>4.823792</td>\n",
       "      <td>-4.846749</td>\n",
       "      <td>1.803559</td>\n",
       "      <td>...</td>\n",
       "      <td>-0.998467</td>\n",
       "      <td>-0.996911</td>\n",
       "      <td>0.251410</td>\n",
       "      <td>0.114912</td>\n",
       "      <td>0.165147</td>\n",
       "      <td>0.062173</td>\n",
       "      <td>0.027075</td>\n",
       "      <td>2004</td>\n",
       "      <td>3</td>\n",
       "      <td>4382</td>\n",
       "    </tr>\n",
       "    <tr>\n",
       "      <th>3</th>\n",
       "      <td>0.0</td>\n",
       "      <td>10</td>\n",
       "      <td>15.0</td>\n",
       "      <td>109.0</td>\n",
       "      <td>0.0</td>\n",
       "      <td>193</td>\n",
       "      <td>45.687478</td>\n",
       "      <td>4.492574</td>\n",
       "      <td>-4.509599</td>\n",
       "      <td>1.285940</td>\n",
       "      <td>...</td>\n",
       "      <td>0.883600</td>\n",
       "      <td>-2.228079</td>\n",
       "      <td>0.274293</td>\n",
       "      <td>0.110300</td>\n",
       "      <td>0.121964</td>\n",
       "      <td>0.033395</td>\n",
       "      <td>0.000000</td>\n",
       "      <td>1996</td>\n",
       "      <td>2</td>\n",
       "      <td>7125</td>\n",
       "    </tr>\n",
       "    <tr>\n",
       "      <th>4</th>\n",
       "      <td>1.0</td>\n",
       "      <td>5</td>\n",
       "      <td>5.0</td>\n",
       "      <td>110.0</td>\n",
       "      <td>0.0</td>\n",
       "      <td>68</td>\n",
       "      <td>44.383511</td>\n",
       "      <td>2.031433</td>\n",
       "      <td>-1.896240</td>\n",
       "      <td>0.910783</td>\n",
       "      <td>...</td>\n",
       "      <td>-1.571239</td>\n",
       "      <td>2.246088</td>\n",
       "      <td>0.228036</td>\n",
       "      <td>0.073205</td>\n",
       "      <td>0.091880</td>\n",
       "      <td>0.078819</td>\n",
       "      <td>0.121534</td>\n",
       "      <td>2012</td>\n",
       "      <td>1</td>\n",
       "      <td>1531</td>\n",
       "    </tr>\n",
       "    <tr>\n",
       "      <th>...</th>\n",
       "      <td>...</td>\n",
       "      <td>...</td>\n",
       "      <td>...</td>\n",
       "      <td>...</td>\n",
       "      <td>...</td>\n",
       "      <td>...</td>\n",
       "      <td>...</td>\n",
       "      <td>...</td>\n",
       "      <td>...</td>\n",
       "      <td>...</td>\n",
       "      <td>...</td>\n",
       "      <td>...</td>\n",
       "      <td>...</td>\n",
       "      <td>...</td>\n",
       "      <td>...</td>\n",
       "      <td>...</td>\n",
       "      <td>...</td>\n",
       "      <td>...</td>\n",
       "      <td>...</td>\n",
       "      <td>...</td>\n",
       "      <td>...</td>\n",
       "    </tr>\n",
       "    <tr>\n",
       "      <th>149994</th>\n",
       "      <td>4.0</td>\n",
       "      <td>10</td>\n",
       "      <td>15.0</td>\n",
       "      <td>121.0</td>\n",
       "      <td>0.0</td>\n",
       "      <td>163</td>\n",
       "      <td>45.316543</td>\n",
       "      <td>-3.139095</td>\n",
       "      <td>1.988114</td>\n",
       "      <td>-2.983973</td>\n",
       "      <td>...</td>\n",
       "      <td>-0.736609</td>\n",
       "      <td>-1.505820</td>\n",
       "      <td>0.280264</td>\n",
       "      <td>0.000310</td>\n",
       "      <td>0.048441</td>\n",
       "      <td>0.071158</td>\n",
       "      <td>0.019174</td>\n",
       "      <td>2000</td>\n",
       "      <td>1</td>\n",
       "      <td>5772</td>\n",
       "    </tr>\n",
       "    <tr>\n",
       "      <th>149995</th>\n",
       "      <td>0.0</td>\n",
       "      <td>11</td>\n",
       "      <td>10.0</td>\n",
       "      <td>116.0</td>\n",
       "      <td>0.0</td>\n",
       "      <td>125</td>\n",
       "      <td>45.972058</td>\n",
       "      <td>-3.143764</td>\n",
       "      <td>1.839166</td>\n",
       "      <td>-2.774615</td>\n",
       "      <td>...</td>\n",
       "      <td>-2.366699</td>\n",
       "      <td>0.698012</td>\n",
       "      <td>0.253217</td>\n",
       "      <td>0.000777</td>\n",
       "      <td>0.084079</td>\n",
       "      <td>0.099681</td>\n",
       "      <td>0.079371</td>\n",
       "      <td>2009</td>\n",
       "      <td>1</td>\n",
       "      <td>2322</td>\n",
       "    </tr>\n",
       "    <tr>\n",
       "      <th>149996</th>\n",
       "      <td>1.0</td>\n",
       "      <td>11</td>\n",
       "      <td>6.0</td>\n",
       "      <td>60.0</td>\n",
       "      <td>0.0</td>\n",
       "      <td>90</td>\n",
       "      <td>44.733481</td>\n",
       "      <td>-3.105721</td>\n",
       "      <td>2.439812</td>\n",
       "      <td>-1.630677</td>\n",
       "      <td>...</td>\n",
       "      <td>-2.279091</td>\n",
       "      <td>1.423661</td>\n",
       "      <td>0.233353</td>\n",
       "      <td>0.000705</td>\n",
       "      <td>0.118872</td>\n",
       "      <td>0.100118</td>\n",
       "      <td>0.097914</td>\n",
       "      <td>2010</td>\n",
       "      <td>1</td>\n",
       "      <td>2003</td>\n",
       "    </tr>\n",
       "    <tr>\n",
       "      <th>149997</th>\n",
       "      <td>3.0</td>\n",
       "      <td>10</td>\n",
       "      <td>15.0</td>\n",
       "      <td>34.0</td>\n",
       "      <td>0.0</td>\n",
       "      <td>156</td>\n",
       "      <td>45.658634</td>\n",
       "      <td>-3.204785</td>\n",
       "      <td>2.075380</td>\n",
       "      <td>-2.633719</td>\n",
       "      <td>...</td>\n",
       "      <td>-1.179812</td>\n",
       "      <td>0.620680</td>\n",
       "      <td>0.256369</td>\n",
       "      <td>0.000252</td>\n",
       "      <td>0.081479</td>\n",
       "      <td>0.083558</td>\n",
       "      <td>0.081498</td>\n",
       "      <td>2006</td>\n",
       "      <td>1</td>\n",
       "      <td>3673</td>\n",
       "    </tr>\n",
       "    <tr>\n",
       "      <th>149998</th>\n",
       "      <td>6.0</td>\n",
       "      <td>28</td>\n",
       "      <td>12.5</td>\n",
       "      <td>19.0</td>\n",
       "      <td>0.0</td>\n",
       "      <td>193</td>\n",
       "      <td>45.536383</td>\n",
       "      <td>-3.200326</td>\n",
       "      <td>1.978453</td>\n",
       "      <td>-3.179913</td>\n",
       "      <td>...</td>\n",
       "      <td>-0.067144</td>\n",
       "      <td>-1.396166</td>\n",
       "      <td>0.284475</td>\n",
       "      <td>0.000000</td>\n",
       "      <td>0.040072</td>\n",
       "      <td>0.062543</td>\n",
       "      <td>0.025819</td>\n",
       "      <td>1999</td>\n",
       "      <td>1</td>\n",
       "      <td>6239</td>\n",
       "    </tr>\n",
       "  </tbody>\n",
       "</table>\n",
       "<p>149999 rows × 24 columns</p>\n",
       "</div>"
      ],
      "text/plain": [
       "        bodyType  brand  kilometer  model  notRepairedDamage  power  \\\n",
       "0            1.0      6       12.5   30.0                0.0     60   \n",
       "1            2.0      1       15.0   40.0                0.0      0   \n",
       "2            1.0     15       12.5  115.0                0.0    163   \n",
       "3            0.0     10       15.0  109.0                0.0    193   \n",
       "4            1.0      5        5.0  110.0                0.0     68   \n",
       "...          ...    ...        ...    ...                ...    ...   \n",
       "149994       4.0     10       15.0  121.0                0.0    163   \n",
       "149995       0.0     11       10.0  116.0                0.0    125   \n",
       "149996       1.0     11        6.0   60.0                0.0     90   \n",
       "149997       3.0     10       15.0   34.0                0.0    156   \n",
       "149998       6.0     28       12.5   19.0                0.0    193   \n",
       "\n",
       "              v_0       v_1      v_10      v_11  ...       v_3       v_4  \\\n",
       "0       43.357796  3.966344 -2.881803  2.804097  ...  2.159744  1.143786   \n",
       "1       45.305273  5.236112 -4.900482  2.096338  ...  1.380657 -1.422165   \n",
       "2       45.978359  4.823792 -4.846749  1.803559  ... -0.998467 -0.996911   \n",
       "3       45.687478  4.492574 -4.509599  1.285940  ...  0.883600 -2.228079   \n",
       "4       44.383511  2.031433 -1.896240  0.910783  ... -1.571239  2.246088   \n",
       "...           ...       ...       ...       ...  ...       ...       ...   \n",
       "149994  45.316543 -3.139095  1.988114 -2.983973  ... -0.736609 -1.505820   \n",
       "149995  45.972058 -3.143764  1.839166 -2.774615  ... -2.366699  0.698012   \n",
       "149996  44.733481 -3.105721  2.439812 -1.630677  ... -2.279091  1.423661   \n",
       "149997  45.658634 -3.204785  2.075380 -2.633719  ... -1.179812  0.620680   \n",
       "149998  45.536383 -3.200326  1.978453 -3.179913  ... -0.067144 -1.396166   \n",
       "\n",
       "             v_5       v_6       v_7       v_8       v_9  regDate_year  \\\n",
       "0       0.235676  0.101988  0.129549  0.022816  0.097462          2004   \n",
       "1       0.264777  0.121004  0.135731  0.026597  0.020582          2003   \n",
       "2       0.251410  0.114912  0.165147  0.062173  0.027075          2004   \n",
       "3       0.274293  0.110300  0.121964  0.033395  0.000000          1996   \n",
       "4       0.228036  0.073205  0.091880  0.078819  0.121534          2012   \n",
       "...          ...       ...       ...       ...       ...           ...   \n",
       "149994  0.280264  0.000310  0.048441  0.071158  0.019174          2000   \n",
       "149995  0.253217  0.000777  0.084079  0.099681  0.079371          2009   \n",
       "149996  0.233353  0.000705  0.118872  0.100118  0.097914          2010   \n",
       "149997  0.256369  0.000252  0.081479  0.083558  0.081498          2006   \n",
       "149998  0.284475  0.000000  0.040072  0.062543  0.025819          1999   \n",
       "\n",
       "        name_count  used_time  \n",
       "0              108       4385  \n",
       "1               29       4757  \n",
       "2                3       4382  \n",
       "3                2       7125  \n",
       "4                1       1531  \n",
       "...            ...        ...  \n",
       "149994           1       5772  \n",
       "149995           1       2322  \n",
       "149996           1       2003  \n",
       "149997           1       3673  \n",
       "149998           1       6239  \n",
       "\n",
       "[149999 rows x 24 columns]"
      ]
     },
     "execution_count": 4,
     "metadata": {},
     "output_type": "execute_result"
    }
   ],
   "source": [
    "train"
   ]
  },
  {
   "cell_type": "code",
   "execution_count": 5,
   "metadata": {},
   "outputs": [
    {
     "data": {
      "text/plain": [
       "0         7.523481\n",
       "1         8.188967\n",
       "2         8.736007\n",
       "3         7.783641\n",
       "4         8.556606\n",
       "            ...   \n",
       "149994    8.682877\n",
       "149995    9.159152\n",
       "149996    8.922792\n",
       "149997    8.517193\n",
       "149998    8.455531\n",
       "Name: price, Length: 149999, dtype: float64"
      ]
     },
     "execution_count": 5,
     "metadata": {},
     "output_type": "execute_result"
    }
   ],
   "source": [
    "label"
   ]
  },
  {
   "cell_type": "markdown",
   "metadata": {},
   "source": [
    "将构建好的数据集划分为训练集<x_train, y_train>和验证集<x_train, y_train>两部分，并将划分前后的这些数据全部转储到文件中。"
   ]
  },
  {
   "cell_type": "code",
   "execution_count": 20,
   "metadata": {},
   "outputs": [
    {
     "data": {
      "text/plain": [
       "['dataset/y_test.csv']"
      ]
     },
     "execution_count": 20,
     "metadata": {},
     "output_type": "execute_result"
    }
   ],
   "source": [
    "x_train, x_test, y_train, y_test = train_test_split(train, label, test_size=0.2)\n",
    "joblib.dump(train, \"dataset/train.csv\") \n",
    "joblib.dump(label, \"dataset/label.csv\") \n",
    "joblib.dump(x_train, \"dataset/x_train.csv\") \n",
    "joblib.dump(x_test, \"dataset/x_test.csv\") \n",
    "joblib.dump(y_train, \"dataset/y_train.csv\") \n",
    "joblib.dump(y_test, \"dataset/y_test.csv\")"
   ]
  },
  {
   "cell_type": "markdown",
   "metadata": {},
   "source": [
    "### 构建模型"
   ]
  },
  {
   "cell_type": "markdown",
   "metadata": {},
   "source": [
    "在最初实现中，使用回归决策树模型进行预测，但是最终的效果还是不够好。所以进一步测试使用随机森林分类器和构建预测模型。\n",
    "\n",
    "随机森林属于Bagging类算法，在训练阶段，随机森林使用bootstrap采样从输入训练数据集中采集多个不同的子训练数据集来依次训练多个不同决策树；在预测阶段，随机森林将内部多个决策树的预测结果取平均得到最终的结果。\n",
    "\n",
    "XGBoost算法特征分裂来生长一棵树，每一轮学习一棵树，其实就是去拟合上一轮模型的预测值与实际值之间的残差。当我们训练完成得到k棵树时，我们要预测一个样本的分数，其实就是根据这个样本的特征，在每棵树中会落到对应的一个叶子节点，每个叶子节点就对应一个分数，最后只需将每棵树对应的分数加起来就是该样本的预测值。"
   ]
  },
  {
   "cell_type": "markdown",
   "metadata": {},
   "source": [
    "- 回归决策树"
   ]
  },
  {
   "cell_type": "code",
   "execution_count": 6,
   "metadata": {},
   "outputs": [],
   "source": [
    "def train_decision_tree_regressor(x_train, y_train):\n",
    "    dr = tree.DecisionTreeRegressor()\n",
    "    dr.fit(x_train, y_train)\n",
    "    return dr"
   ]
  },
  {
   "cell_type": "markdown",
   "metadata": {},
   "source": [
    "- 随机森林回归器"
   ]
  },
  {
   "cell_type": "code",
   "execution_count": 7,
   "metadata": {},
   "outputs": [],
   "source": [
    "def train_random_forest_regressor(x_train, y_train):\n",
    "    #rfr = RandomForestRegressor(n_estimators=80, max_depth=25 )\n",
    "    rfr = RandomForestRegressor(n_estimators=80,)\n",
    "    rfr.fit(x_train, y_train)\n",
    "    return rfr"
   ]
  },
  {
   "cell_type": "markdown",
   "metadata": {},
   "source": [
    "- GBDT模型"
   ]
  },
  {
   "cell_type": "code",
   "execution_count": 8,
   "metadata": {},
   "outputs": [],
   "source": [
    "def train_XGBRegressor(x_train, y_train):\n",
    "    gbm= XGBRegressor()\n",
    "    gbm.fit(x_train, y_train)\n",
    "    return gbm"
   ]
  },
  {
   "cell_type": "markdown",
   "metadata": {},
   "source": [
    "加载保存的x_train, y_train，训练模型"
   ]
  },
  {
   "cell_type": "code",
   "execution_count": 11,
   "metadata": {
    "scrolled": true
   },
   "outputs": [],
   "source": [
    "def load_dataset():\n",
    "    paths = [\"dataset/x_train.csv\", \"dataset/x_test.csv\",\"dataset/y_train.csv\", \"dataset/y_test.csv\"]\n",
    "    x_train, x_test, y_train, y_test = [joblib.load(x) for x in paths]\n",
    "    return x_train, x_test, y_train, y_test\n",
    "\n",
    "x_train, x_test, y_train, y_test = load_dataset()"
   ]
  },
  {
   "cell_type": "markdown",
   "metadata": {},
   "source": [
    "执行本目录下的[algo2.py](algo2.py)文件，开始训练模型，并将模型保存在models目录下。"
   ]
  },
  {
   "cell_type": "code",
   "execution_count": 11,
   "metadata": {},
   "outputs": [],
   "source": [
    "if sys.argv[1] == \"xgbt\":\n",
    "    drm = train_XGBRegressor(x_train, y_train)\n",
    "    pkl_name = \"XGBRegressor\"\n",
    "if sys.argv[1] == \"tree\":\n",
    "    drm = train_decision_tree_regressor(x_train, y_train)\n",
    "    pkl_name = \"train_decision_tree_regressor\"\n",
    "if sys.argv[1] == \"forest\":\n",
    "    drm = train_random_forest_regressor(x_train, y_train)\n",
    "    pkl_name = \"train_forest_regressor\"\n",
    "else:\n",
    "    sys.exit(0)\n",
    "t1 = time.time()\n",
    "print(\"excute_time: %f\"%round(t1 - t0, ndigits=4))\n",
    "print(\"dumping model\")\n",
    "joblib.dump(drm, \"models/\"+pkl_name+\".pkl\") "
   ]
  },
  {
   "cell_type": "markdown",
   "metadata": {},
   "source": [
    "### 结果分析"
   ]
  },
  {
   "cell_type": "markdown",
   "metadata": {},
   "source": [
    "载入训练后的模型，使用验证集<x_test,y_test>计算模型的MAE，MAE越小，说明模型预测得越准确。。"
   ]
  },
  {
   "cell_type": "code",
   "execution_count": 9,
   "metadata": {},
   "outputs": [],
   "source": [
    "import joblib\n",
    "dtr = joblib.load(\"models/train_decision_tree_regressor.pkl\")\n",
    "rfr = joblib.load(\"models/train_forest_regressor.pkl\")\n",
    "xgbr = joblib.load(\"models/XGBRegressor.pkl\")"
   ]
  },
  {
   "cell_type": "markdown",
   "metadata": {},
   "source": [
    "- 回归决策树"
   ]
  },
  {
   "cell_type": "code",
   "execution_count": 19,
   "metadata": {},
   "outputs": [
    {
     "name": "stdout",
     "output_type": "stream",
     "text": [
      "0.1862874276297354\n",
      "857.6127744304264\n"
     ]
    }
   ],
   "source": [
    "x_train, x_test, y_train, y_test = load_dataset()\n",
    "predict_test = dtr.predict(x_test)\n",
    "mae_result = []\n",
    "print(mean_absolute_error(predict_test, y_test))\n",
    "print(mean_absolute_error(np.expm1(predict_test), np.expm1(y_test)))\n",
    "mae_result.append(mean_absolute_error(np.expm1(predict_test), np.expm1(y_test)))"
   ]
  },
  {
   "cell_type": "markdown",
   "metadata": {},
   "source": [
    "- 随机森林回归器"
   ]
  },
  {
   "cell_type": "code",
   "execution_count": 20,
   "metadata": {},
   "outputs": [
    {
     "name": "stdout",
     "output_type": "stream",
     "text": [
      "0.1304358534662892\n",
      "590.0747423926608\n"
     ]
    }
   ],
   "source": [
    "predict_test = rfr.predict(x_test)\n",
    "print(mean_absolute_error(predict_test, y_test))\n",
    "print(mean_absolute_error(np.expm1(predict_test), np.expm1(y_test)))\n",
    "mae_result.append(mean_absolute_error(np.expm1(predict_test), np.expm1(y_test)))"
   ]
  },
  {
   "cell_type": "markdown",
   "metadata": {},
   "source": [
    "- GBDT模型"
   ]
  },
  {
   "cell_type": "code",
   "execution_count": 21,
   "metadata": {},
   "outputs": [
    {
     "name": "stdout",
     "output_type": "stream",
     "text": [
      "0.13869179402663728\n",
      "652.1383889745077\n"
     ]
    }
   ],
   "source": [
    "predict_test = xgbr.predict(x_test)\n",
    "print(mean_absolute_error(predict_test, y_test))\n",
    "print(mean_absolute_error(np.expm1(predict_test), np.expm1(y_test)))\n",
    "mae_result.append(mean_absolute_error(np.expm1(predict_test), np.expm1(y_test)))"
   ]
  },
  {
   "cell_type": "markdown",
   "metadata": {},
   "source": [
    "#### 结果对比"
   ]
  },
  {
   "cell_type": "code",
   "execution_count": 25,
   "metadata": {},
   "outputs": [
    {
     "data": {
      "text/plain": [
       "<BarContainer object of 3 artists>"
      ]
     },
     "execution_count": 25,
     "metadata": {},
     "output_type": "execute_result"
    },
    {
     "data": {
      "image/png": "[encoded data removed]",
      "text/plain": [
       "<Figure size 432x288 with 1 Axes>"
      ]
     },
     "metadata": {
      "needs_background": "light"
     },
     "output_type": "display_data"
    }
   ],
   "source": [
    "plt.bar([\"decision_tree_regressor\",\"random_forest_regressor\",\"XGBRegressor\"], mae_result,label=\"2\")"
   ]
  },
  {
   "cell_type": "markdown",
   "metadata": {},
   "source": [
    "可以看出，相比于决策树，随机森林回归器和GBDT模型的MAE都得到显示降低，模型的预测性能得到提高。"
   ]
  },
  {
   "cell_type": "markdown",
   "metadata": {},
   "source": [
    "#### 得到最终的预测模型"
   ]
  },
  {
   "cell_type": "markdown",
   "metadata": {},
   "source": [
    "最后，对随机森林回归树模型与xgbt回归模型进行简单的加权融合，计算MAE。"
   ]
  },
  {
   "cell_type": "code",
   "execution_count": 28,
   "metadata": {},
   "outputs": [
    {
     "name": "stdout",
     "output_type": "stream",
     "text": [
      "0.12778741339762678\n",
      "585.0242469211836\n"
     ]
    }
   ],
   "source": [
    "def Weighted_method(test_pre1,test_pre2,w=[1/2,1/2]):\n",
    "    Weighted_result = w[0]*pd.Series(test_pre1)+w[1]*pd.Series(test_pre2)\n",
    "    return Weighted_result\n",
    "\n",
    "x_train, x_test, y_train, y_test = load_dataset()\n",
    "m1 = rfr\n",
    "m2 = xgbr\n",
    "predict_1 = m1.predict(x_test)\n",
    "predict_2 = m2.predict(x_test)\n",
    "predict_test = Weighted_method(predict_1, predict_2)\n",
    "print(mean_absolute_error(predict_test, y_test))\n",
    "print(mean_absolute_error(np.expm1(predict_test), np.expm1(y_test)))"
   ]
  },
  {
   "cell_type": "markdown",
   "metadata": {},
   "source": [
    "MAE有所减小。因此，最终的模型使用随机森林回归树模型与xgbt回归模型预测的均值作为二手车价格的预测值。"
   ]
  },
  {
   "cell_type": "markdown",
   "metadata": {},
   "source": [
    "使用最终模型在测试集[data/test_data_v1.csv](data/test_data_v1.csv)进行预测。"
   ]
  },
  {
   "cell_type": "code",
   "execution_count": 32,
   "metadata": {},
   "outputs": [],
   "source": [
    "test_path = \"data/test_data_v1.csv\"\n",
    "test_data = pd.read_csv(test_path,sep=\" \")\n",
    "test_data['used_time'] = (pd.to_datetime(test_data['creatDates'], format='%Y-%m-%d', errors='coerce') - \n",
    "                            pd.to_datetime(test_data['regDates'], format='%Y-%m-%d', errors='coerce')).dt.days\n",
    "test_data_features = test_data[[\"bodyType\",\"brand\",\"kilometer\",\n",
    "              'model', 'notRepairedDamage', 'power',\n",
    "              'v_0', 'v_1', 'v_10', 'v_11', 'v_12', 'v_13', 'v_14',\n",
    "               'v_2', 'v_3', 'v_4', 'v_5', 'v_6', 'v_7', 'v_8', 'v_9', \n",
    "               'regDate_year',\n",
    "              'name_count','used_time']]\n",
    "model = joblib.load(\"models/train_forest_regressor.pkl\")\n",
    "model2 = joblib.load(\"models/XGBRegressor.pkl\")\n",
    "\n",
    "#预测\n",
    "p1 = model.predict(test_data_features)\n",
    "p2 = model2.predict(test_data_features)\n",
    "price = Weighted_method(p1, p2)\n",
    "\n",
    "#生成用于提交的csv文件\n",
    "output = pd.DataFrame()\n",
    "output['SaleID'] = test_data.SaleID\n",
    "output['price'] = np.expm1(price)\n",
    "output.to_csv('output/submmit_stack.csv',index=False)"
   ]
  },
  {
   "cell_type": "markdown",
   "metadata": {},
   "source": [
    "测试集预测结果的MAE为578.4769"
   ]
  },
  {
   "attachments": {
    "image.png": {
     "image/png": "[encoded data removed]"
    }
   },
   "cell_type": "markdown",
   "metadata": {},
   "source": [
    "![image.png](attachment:image.png)"
   ]
  }
 ],
 "metadata": {
  "kernelspec": {
   "display_name": "Python 3",
   "language": "python",
   "name": "python3"
  },
  "language_info": {
   "codemirror_mode": {
    "name": "ipython",
    "version": 3
   },
   "file_extension": ".py",
   "mimetype": "text/x-python",
   "name": "python",
   "nbconvert_exporter": "python",
   "pygments_lexer": "ipython3",
   "version": "3.8.3"
  }
 },
 "nbformat": 4,
 "nbformat_minor": 4
}
